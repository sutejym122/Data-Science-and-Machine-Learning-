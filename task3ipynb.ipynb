{
  "nbformat": 4,
  "nbformat_minor": 0,
  "metadata": {
    "colab": {
      "name": "task3ipynb",
      "provenance": [],
      "authorship_tag": "ABX9TyMQz14h4Zpn9Kj13OH7e8Aj",
      "include_colab_link": true
    },
    "kernelspec": {
      "name": "python3",
      "display_name": "Python 3"
    },
    "language_info": {
      "name": "python"
    }
  },
  "cells": [
    {
      "cell_type": "markdown",
      "metadata": {
        "id": "view-in-github",
        "colab_type": "text"
      },
      "source": [
        "<a href=\"https://colab.research.google.com/github/sutejym122/Data-Science-and-Machine-Learning-/blob/main/task3ipynb.ipynb\" target=\"_parent\"><img src=\"https://colab.research.google.com/assets/colab-badge.svg\" alt=\"Open In Colab\"/></a>"
      ]
    },
    {
      "cell_type": "markdown",
      "metadata": {
        "id": "jHBpwe4eyK94"
      },
      "source": [
        "Write a Python Program to sort (ascending and descending) a dictionary by value. "
      ]
    },
    {
      "cell_type": "code",
      "metadata": {
        "colab": {
          "base_uri": "https://localhost:8080/"
        },
        "id": "Xt_o9T6pwobA",
        "outputId": "baff3a35-0f9d-48e5-a5d2-61cde44e4f5f"
      },
      "source": [
        "import operator \n",
        "d={1:2,3: 4, 4: 3, 2: 1, 0: 0}\n",
        "print(\"original dictionary\",d)\n",
        "s= sorted(d.items(), key=operator.itemgetter(1))\n",
        "\n",
        "print('ascending order : ',s)\n",
        "\n",
        "s1= dict( sorted(d.items(), key=operator.itemgetter(1),reverse=True))\n",
        "\n",
        "print('descending order : ',s1)"
      ],
      "execution_count": 2,
      "outputs": [
        {
          "output_type": "stream",
          "text": [
            "original dictionary {1: 2, 3: 4, 4: 3, 2: 1, 0: 0}\n",
            "ascending order :  [(0, 0), (2, 1), (1, 2), (4, 3), (3, 4)]\n",
            "descending order :  {3: 4, 4: 3, 1: 2, 2: 1, 0: 0}\n"
          ],
          "name": "stdout"
        }
      ]
    },
    {
      "cell_type": "markdown",
      "metadata": {
        "id": "uwwyPA3CyOq2"
      },
      "source": [
        "Write a Python Program to add a key to a dictionary. \n",
        "\n",
        "Sample Dictionary : {0: 10, 1: 20}\n",
        "Expected Result : {0: 10, 1: 20, 2: 30}"
      ]
    },
    {
      "cell_type": "code",
      "metadata": {
        "colab": {
          "base_uri": "https://localhost:8080/"
        },
        "id": "PNXY-UMWyRAG",
        "outputId": "e03a3130-81c7-490b-dd00-7145fcfdee1b"
      },
      "source": [
        "sd={0:10,1:20}\n",
        "print(\"sample dictionary\",sd)\n",
        "sd[2]=30\n",
        "print(\"expected result\",sd)"
      ],
      "execution_count": 4,
      "outputs": [
        {
          "output_type": "stream",
          "text": [
            "sample dictionary {0: 10, 1: 20}\n",
            "expected result {0: 10, 1: 20, 2: 30}\n"
          ],
          "name": "stdout"
        }
      ]
    },
    {
      "cell_type": "markdown",
      "metadata": {
        "id": "krNE-BXrzbxM"
      },
      "source": [
        "Write a  program asks for City name and Temperature and builds a dictionary using that Later on you can input City name and it will tell you the Temperature of that City"
      ]
    },
    {
      "cell_type": "code",
      "metadata": {
        "colab": {
          "base_uri": "https://localhost:8080/"
        },
        "id": "6Mmga78Ezd0E",
        "outputId": "d8bced08-9184-4945-bd48-2c4d0262894d"
      },
      "source": [
        "d={city:temp}\n",
        "for i in range(0,3):\n",
        "  city=input(\"enter the city name :\")\n",
        "  temp= int(input(\"enter the temperature\"))\n",
        "\n",
        "\n",
        " \n",
        "\n",
        "  \n",
        "print(d)\n",
        "t=input(\"enter the city temperature you want to check \")\n",
        "q=d.get(t)\n",
        "print(q)\n",
        "\n",
        "\n",
        "\n",
        "\n"
      ],
      "execution_count": 9,
      "outputs": [
        {
          "output_type": "stream",
          "text": [
            "enter the city name :a\n",
            "enter the temperature21\n",
            "enter the city name :b\n",
            "enter the temperature22\n",
            "enter the city name :c\n",
            "enter the temperature23\n",
            "{'c': 23}\n",
            "enter the city temperature you want to check c\n",
            "23\n"
          ],
          "name": "stdout"
        }
      ]
    },
    {
      "cell_type": "markdown",
      "metadata": {
        "id": "qzYkLIpK5s8q"
      },
      "source": [
        " Write a Python program to convert list to list of dictionaries.\n",
        "\n",
        "Sample lists: [\"Black\", \"Red\", \"Maroon\", \"Yellow\"], [\"#000000\", \"#FF0000\", \"#800000\", \"#FFFF00\"]"
      ]
    },
    {
      "cell_type": "code",
      "metadata": {
        "colab": {
          "base_uri": "https://localhost:8080/"
        },
        "id": "iZ9eWCK55srt",
        "outputId": "1d7ebb61-13b6-40f6-9672-9484542e0343"
      },
      "source": [
        "l1=[\"black\",\"red\",\"maroon\",\"yellow\"]\n",
        "l2=[\"#000000\", \"#FF0000\", \"#800000\", \"#FFFF00\"]\n",
        "d=dict(zip(l1,l2))\n",
        "print(d)"
      ],
      "execution_count": 11,
      "outputs": [
        {
          "output_type": "stream",
          "text": [
            "{'black': '#000000', 'red': '#FF0000', 'maroon': '#800000', 'yellow': '#FFFF00'}\n"
          ],
          "name": "stdout"
        }
      ]
    },
    {
      "cell_type": "markdown",
      "metadata": {
        "id": "KjlVPzpM6hi6"
      },
      "source": [
        "5 We have following information on Employees and their Salary (Salary is in lakhs),\n",
        "\n",
        "Employee\tSalary\n",
        "John\t14\n",
        "Smith\t13\n",
        "Alice\t32\n",
        "Daneil\t21\n",
        "Using above create a dictionary of Employees and their Salary\n",
        "Write a program that asks user for three type of inputs,\n",
        "print: if user enter print then it should print all Employees with their Salary in this format,\n",
        "John ==>14\n",
        "Smith ==>13\n",
        "Alice ==>32\n",
        " Daneil ==>21\n",
        "add: if user input adds then it should further ask for an Employee name to add. If Employee already exists in our dataset then it should print that it exists and do nothing. If it doesn't then it asks for Salary and add that new Employee/Salary in our dictionary and print it\n",
        "remove: when user inputs remove it should ask for an Employee to remove. If an Employee exists in our dictionary then remove it and print a new dictionary using format shown above in (a). Else print that Employee doesn't exist!\n",
        "query: on this again ask the user for which Employee he or she wants to query. When a user inputs that Employee it will print the Salary of that Employee"
      ]
    },
    {
      "cell_type": "code",
      "metadata": {
        "colab": {
          "base_uri": "https://localhost:8080/"
        },
        "id": "RmKj-cbQ6nAK",
        "outputId": "fa24762b-8922-4633-bc0e-c4476c0afdaa"
      },
      "source": [
        "\n",
        "d={}\n",
        "d['John'] = 14\n",
        "d['Smith'] = 13\n",
        "d['Alice'] = 32\n",
        "d['Daneil'] = 21\n",
        "print(d)\n",
        "dict.items(d)\n",
        "name = input('Enter an employee name: ')\n",
        "if name in d:\n",
        "  print('Already exists')\n",
        "else:\n",
        "  salary = input('Enter salary: ')\n",
        "d[name] = salary\n",
        "print(d)\n",
        "\n",
        "name = input('Enter an employee name: ')\n",
        "if name in d:\n",
        "  d.pop(name)\n",
        "  print(d)\n",
        "else:\n",
        "  print(\"Employee doesn't exist\")\n",
        "\n",
        "name = input('Enter an employee name: ')\n",
        "if name in d:\n",
        "  print('The salary of ',name,'is: ',d[name])\n",
        "else:\n",
        "  print('Not found')"
      ],
      "execution_count": 16,
      "outputs": [
        {
          "output_type": "stream",
          "text": [
            "{'John': 14, 'Smith': 13, 'Alice': 32, 'Daneil': 21}\n",
            "Enter an employee name: alice\n",
            "Enter salary: 32\n",
            "{'John': 14, 'Smith': 13, 'Alice': 32, 'Daneil': 21, 'alice': '32'}\n",
            "Enter an employee name: Alice\n",
            "{'John': 14, 'Smith': 13, 'Daneil': 21, 'alice': '32'}\n",
            "Enter an employee name: John\n",
            "The salary of  John is:  14\n"
          ],
          "name": "stdout"
        }
      ]
    },
    {
      "cell_type": "markdown",
      "metadata": {
        "id": "v9h2x5pR7jF6"
      },
      "source": [
        "What is the difference between a set and a frozenset? Create any set and try to use frozenset(setname).\n",
        "\n",
        "Frozen set is just an immutable version of a Python set object. While elements of a set can be modified at any time, elements of the frozen set remain the same after creation.\n",
        "\n",
        "Due to this, frozen sets can be used as keys in Dictionary or as elements of another set. But like sets, it is not ordered"
      ]
    },
    {
      "cell_type": "markdown",
      "metadata": {
        "id": "24zcBgMa7ktK"
      },
      "source": [
        "Find the elements in a given set that are not in another set\n",
        "\n",
        "    set1 = {10,20,30,40,50}\n",
        "\n",
        "    set2 = {40,50,60,70,80}"
      ]
    },
    {
      "cell_type": "code",
      "metadata": {
        "colab": {
          "base_uri": "https://localhost:8080/"
        },
        "id": "Myy7KWgt7nUp",
        "outputId": "137ca185-770e-4ff5-9365-c6dc653c929a"
      },
      "source": [
        "set1 = {10,20,30,40,50}\n",
        "set2 = {40,50,60,70,80}\n",
        "\n",
        "set3 = set1.symmetric_difference(set2)\n",
        "print('Elements in a given set that are not in another set: ',set3)\n",
        "\n",
        "set4 = set1 - set2\n",
        "print('Difference between set1 and set2 is ',set4)"
      ],
      "execution_count": 17,
      "outputs": [
        {
          "output_type": "stream",
          "text": [
            "Elements in a given set that are not in another set:  {80, 20, 70, 10, 60, 30}\n",
            "Difference between set1 and set2 is  {10, 20, 30}\n"
          ],
          "name": "stdout"
        }
      ]
    }
  ]
}