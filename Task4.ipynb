{
  "nbformat": 4,
  "nbformat_minor": 0,
  "metadata": {
    "colab": {
      "name": "Task4.ipynb",
      "provenance": [],
      "collapsed_sections": [],
      "authorship_tag": "ABX9TyP6pPrBl3obWrzmpGrJHUlL",
      "include_colab_link": true
    },
    "kernelspec": {
      "name": "python3",
      "display_name": "Python 3"
    },
    "language_info": {
      "name": "python"
    }
  },
  "cells": [
    {
      "cell_type": "markdown",
      "metadata": {
        "id": "view-in-github",
        "colab_type": "text"
      },
      "source": [
        "<a href=\"https://colab.research.google.com/github/sutejym122/Data-Science-and-Machine-Learning-/blob/main/Task4.ipynb\" target=\"_parent\"><img src=\"https://colab.research.google.com/assets/colab-badge.svg\" alt=\"Open In Colab\"/></a>"
      ]
    },
    {
      "cell_type": "markdown",
      "metadata": {
        "id": "vMIU9S5fcnXS"
      },
      "source": [
        "Task 4\n",
        "\n",
        "Name - SUTEJ Y M\n",
        "\n",
        "Reg no. - 10487"
      ]
    },
    {
      "cell_type": "markdown",
      "metadata": {
        "id": "-c8v6KHD5R38"
      },
      "source": [
        "Import the numpy package under the name np and Print the numpy version and the configuration "
      ]
    },
    {
      "cell_type": "code",
      "metadata": {
        "colab": {
          "base_uri": "https://localhost:8080/"
        },
        "id": "4Kie8VSI5MwV",
        "outputId": "e08f92d6-15bb-41e2-b95f-7ffa12fc3057"
      },
      "source": [
        "import numpy as np \n",
        "print(np.__version__)\n",
        "print(np.show_config())"
      ],
      "execution_count": 3,
      "outputs": [
        {
          "output_type": "stream",
          "text": [
            "1.19.5\n",
            "blas_mkl_info:\n",
            "  NOT AVAILABLE\n",
            "blis_info:\n",
            "  NOT AVAILABLE\n",
            "openblas_info:\n",
            "    libraries = ['openblas', 'openblas']\n",
            "    library_dirs = ['/usr/local/lib']\n",
            "    language = c\n",
            "    define_macros = [('HAVE_CBLAS', None)]\n",
            "blas_opt_info:\n",
            "    libraries = ['openblas', 'openblas']\n",
            "    library_dirs = ['/usr/local/lib']\n",
            "    language = c\n",
            "    define_macros = [('HAVE_CBLAS', None)]\n",
            "lapack_mkl_info:\n",
            "  NOT AVAILABLE\n",
            "openblas_lapack_info:\n",
            "    libraries = ['openblas', 'openblas']\n",
            "    library_dirs = ['/usr/local/lib']\n",
            "    language = c\n",
            "    define_macros = [('HAVE_CBLAS', None)]\n",
            "lapack_opt_info:\n",
            "    libraries = ['openblas', 'openblas']\n",
            "    library_dirs = ['/usr/local/lib']\n",
            "    language = c\n",
            "    define_macros = [('HAVE_CBLAS', None)]\n",
            "None\n"
          ],
          "name": "stdout"
        }
      ]
    },
    {
      "cell_type": "markdown",
      "metadata": {
        "id": "vAVNqdRG6g8C"
      },
      "source": [
        "Create a null vector of size 10"
      ]
    },
    {
      "cell_type": "code",
      "metadata": {
        "colab": {
          "base_uri": "https://localhost:8080/"
        },
        "id": "SKJnrHwJ6lFU",
        "outputId": "8ab7faa7-2474-45c3-e066-2645bb49e73d"
      },
      "source": [
        "x=np.zeros(10)\n",
        "print(x)"
      ],
      "execution_count": 5,
      "outputs": [
        {
          "output_type": "stream",
          "text": [
            "[0. 0. 0. 0. 0. 0. 0. 0. 0. 0.]\n"
          ],
          "name": "stdout"
        }
      ]
    },
    {
      "cell_type": "markdown",
      "metadata": {
        "id": "xS2HVyk97P6d"
      },
      "source": [
        "Create Simple 1-D array and check type and check data types in array"
      ]
    },
    {
      "cell_type": "code",
      "metadata": {
        "colab": {
          "base_uri": "https://localhost:8080/"
        },
        "id": "mUL6q3Z-7Sjn",
        "outputId": "7248b6bc-39b0-49b9-8797-d05f8bf3f0c1"
      },
      "source": [
        "x=np.array([1,2,3])\n",
        "print(x)\n",
        "print(type(x))\n",
        "print(x.dtype)"
      ],
      "execution_count": 9,
      "outputs": [
        {
          "output_type": "stream",
          "text": [
            "[1 2 3]\n",
            "<class 'numpy.ndarray'>\n",
            "int64\n"
          ],
          "name": "stdout"
        }
      ]
    },
    {
      "cell_type": "markdown",
      "metadata": {
        "id": "PQ-LrJ1V7qX-"
      },
      "source": [
        "How to find number of dimensions, bytes per element and bytes of memory used?"
      ]
    },
    {
      "cell_type": "code",
      "metadata": {
        "colab": {
          "base_uri": "https://localhost:8080/"
        },
        "id": "Ap8vUIE57ufg",
        "outputId": "76160af1-4b2d-4d0b-8664-dc2039f7001b"
      },
      "source": [
        "a=np.array([[1,2,3],[4,5,6]])\n",
        "print(\"number of dimensions is :\" , a.ndim)\n",
        "print(\"number of bytes per element is :\" , a.itemsize)\n",
        "print(\"number of bytes of memory used is :\",a.nbytes)"
      ],
      "execution_count": 17,
      "outputs": [
        {
          "output_type": "stream",
          "text": [
            "number of dimensions is : 2\n",
            "number of bytes per element is : 8\n",
            "number of bytes of memory used is : 48\n"
          ],
          "name": "stdout"
        }
      ]
    },
    {
      "cell_type": "markdown",
      "metadata": {
        "id": "Bl3kZ0Ko9iyT"
      },
      "source": [
        "Create a null vector of size 10 but the fifth value which is 1"
      ]
    },
    {
      "cell_type": "code",
      "metadata": {
        "colab": {
          "base_uri": "https://localhost:8080/"
        },
        "id": "LpZnFZVt9m4B",
        "outputId": "5c4f79be-40da-4377-acca-eb7c975959db"
      },
      "source": [
        "a=np.zeros(10)\n",
        "print(\"null vector of size is :\",a)\n",
        "print(\"making the fifth value as 1\")\n",
        "a[5]=1\n",
        "print(a)"
      ],
      "execution_count": 19,
      "outputs": [
        {
          "output_type": "stream",
          "text": [
            "null vector of size is : [0. 0. 0. 0. 0. 0. 0. 0. 0. 0.]\n",
            "making the fifth value as 1\n",
            "[0. 0. 0. 0. 0. 1. 0. 0. 0. 0.]\n"
          ],
          "name": "stdout"
        }
      ]
    },
    {
      "cell_type": "markdown",
      "metadata": {
        "id": "7ltwBedY-Se_"
      },
      "source": [
        "Create a vector with values ranging from 10 to 49"
      ]
    },
    {
      "cell_type": "code",
      "metadata": {
        "colab": {
          "base_uri": "https://localhost:8080/"
        },
        "id": "wNkaXyWW-WN-",
        "outputId": "cc39f267-c651-4d70-e8b6-a0719b0e906c"
      },
      "source": [
        "a=np.arange(10,49)\n",
        "print(\"vector values ranging from 10 to 49 is :\",a)"
      ],
      "execution_count": 20,
      "outputs": [
        {
          "output_type": "stream",
          "text": [
            "vector values ranging from 10 to 49 is : [10 11 12 13 14 15 16 17 18 19 20 21 22 23 24 25 26 27 28 29 30 31 32 33\n",
            " 34 35 36 37 38 39 40 41 42 43 44 45 46 47 48]\n"
          ],
          "name": "stdout"
        }
      ]
    },
    {
      "cell_type": "markdown",
      "metadata": {
        "id": "BbWv4Zut-3ta"
      },
      "source": [
        "Reverse a vector (first element becomes last)"
      ]
    },
    {
      "cell_type": "code",
      "metadata": {
        "colab": {
          "base_uri": "https://localhost:8080/"
        },
        "id": "N_ExzgZu_E0B",
        "outputId": "218f550b-a03b-4a69-b640-05aeb41bde7f"
      },
      "source": [
        "a=np.arange(10,20)\n",
        "print(\"before reeversing :\",a)\n",
        "a=a[::-1]\n",
        "print(\"after reversing :\",a)"
      ],
      "execution_count": 24,
      "outputs": [
        {
          "output_type": "stream",
          "text": [
            "before reeversing : [10 11 12 13 14 15 16 17 18 19]\n",
            "after reversing : [19 18 17 16 15 14 13 12 11 10]\n"
          ],
          "name": "stdout"
        }
      ]
    },
    {
      "cell_type": "markdown",
      "metadata": {
        "id": "a1j18x7qARjB"
      },
      "source": [
        "Create a 3x3 matrix with values ranging from 0 to 8"
      ]
    },
    {
      "cell_type": "code",
      "metadata": {
        "colab": {
          "base_uri": "https://localhost:8080/"
        },
        "id": "5j5xP7vlASRo",
        "outputId": "81fc0012-eeca-4499-9e6c-3c5c53cf30f1"
      },
      "source": [
        "a=np.arange(0,9)\n",
        "a.shape\n",
        "a.reshape(3,3)"
      ],
      "execution_count": 28,
      "outputs": [
        {
          "output_type": "execute_result",
          "data": {
            "text/plain": [
              "array([[0, 1, 2],\n",
              "       [3, 4, 5],\n",
              "       [6, 7, 8]])"
            ]
          },
          "metadata": {
            "tags": []
          },
          "execution_count": 28
        }
      ]
    },
    {
      "cell_type": "markdown",
      "metadata": {
        "id": "cHLEN8qQAoP3"
      },
      "source": [
        "Find indices of non-zero elements from [1,2,0,0,4,0]"
      ]
    },
    {
      "cell_type": "code",
      "metadata": {
        "colab": {
          "base_uri": "https://localhost:8080/"
        },
        "id": "etHJ12v6AsRH",
        "outputId": "d805a4fa-005c-4958-a7da-f625268fbf24"
      },
      "source": [
        "a=np.array([1,2,0,0,4,0])\n",
        "Res=np.where(a!=0)[0]\n",
        "print(Res)\n",
        "print(\"indices of non-zero elements are :\",np.nonzero(a))"
      ],
      "execution_count": 52,
      "outputs": [
        {
          "output_type": "stream",
          "text": [
            "[0 1 4]\n",
            "indices of non-zero elements are : (array([0, 1, 4]),)\n"
          ],
          "name": "stdout"
        }
      ]
    },
    {
      "cell_type": "markdown",
      "metadata": {
        "id": "gaQlV2YCBi8h"
      },
      "source": [
        "Create a 3x3 identity matrix"
      ]
    },
    {
      "cell_type": "code",
      "metadata": {
        "colab": {
          "base_uri": "https://localhost:8080/"
        },
        "id": "uNLtmrVeBmlA",
        "outputId": "0ccf6dc4-a55f-4fb8-e09d-539def6168ec"
      },
      "source": [
        "a=np.zeros((3,3))\n",
        "\n",
        "a[0,0]=1\n",
        "a[1,1]=1\n",
        "a[2,2]=1\n",
        "print(a)\n",
        "\n",
        "print(\"\")\n",
        "print(\"\")\n",
        "print(\"\")\n",
        "print(\"\")\n",
        "print(\"\")\n",
        "print(\"\")\n",
        "\n",
        "#OR\n",
        "a1=np.eye(3)\n",
        "print(a1)"
      ],
      "execution_count": 61,
      "outputs": [
        {
          "output_type": "stream",
          "text": [
            "[[1. 0. 0.]\n",
            " [0. 1. 0.]\n",
            " [0. 0. 1.]]\n",
            "\n",
            "\n",
            "\n",
            "\n",
            "\n",
            "\n",
            "[[1. 0. 0.]\n",
            " [0. 1. 0.]\n",
            " [0. 0. 1.]]\n"
          ],
          "name": "stdout"
        }
      ]
    },
    {
      "cell_type": "markdown",
      "metadata": {
        "id": "2XSl1P4cDoDs"
      },
      "source": [
        "Create a 3x3x3 array with random values"
      ]
    },
    {
      "cell_type": "code",
      "metadata": {
        "colab": {
          "base_uri": "https://localhost:8080/"
        },
        "id": "sBSasTLSEtbD",
        "outputId": "25cf9955-5ea8-4ea5-f03b-b3687ad0c77c"
      },
      "source": [
        "a=np.random.random((3,3,3))\n",
        "print(a)"
      ],
      "execution_count": 64,
      "outputs": [
        {
          "output_type": "stream",
          "text": [
            "[[[0.14690291 0.59168361 0.42614458]\n",
            "  [0.23616197 0.41967175 0.45518481]\n",
            "  [0.72313094 0.2577119  0.87279692]]\n",
            "\n",
            " [[0.82072531 0.90674173 0.00268548]\n",
            "  [0.87494831 0.87378806 0.40150325]\n",
            "  [0.78795417 0.66504075 0.72018379]]\n",
            "\n",
            " [[0.38215981 0.62542862 0.57241669]\n",
            "  [0.85407371 0.17145951 0.89923053]\n",
            "  [0.42106893 0.30856326 0.4976838 ]]]\n"
          ],
          "name": "stdout"
        }
      ]
    },
    {
      "cell_type": "markdown",
      "metadata": {
        "id": "azyP5lN1GrZa"
      },
      "source": [
        "Create a 10x10 array with random values and find the minimum and maximum values"
      ]
    },
    {
      "cell_type": "code",
      "metadata": {
        "colab": {
          "base_uri": "https://localhost:8080/"
        },
        "id": "G6ekmcXAGu1T",
        "outputId": "ed64a360-7b1c-4a44-d2d4-8309d0a7f824"
      },
      "source": [
        "a=np.random.random((10,10))\n",
        "print(a)\n",
        "print(\"minimum value is :\",np.min(a))\n",
        "print(\"maximum value is :\",np.max(a))"
      ],
      "execution_count": 71,
      "outputs": [
        {
          "output_type": "stream",
          "text": [
            "[[0.81242995 0.24216606 0.55789977 0.88553545 0.04383758 0.44620132\n",
            "  0.21492262 0.06317282 0.09522891 0.63966929]\n",
            " [0.64669433 0.55188504 0.90043544 0.94055033 0.00142428 0.21400455\n",
            "  0.34142882 0.57431818 0.02450782 0.53165676]\n",
            " [0.51316048 0.49732863 0.40267578 0.38811987 0.80664939 0.91577562\n",
            "  0.33678596 0.25369298 0.85272002 0.29784787]\n",
            " [0.65225611 0.06389445 0.71441333 0.02964057 0.82094192 0.76774745\n",
            "  0.03899721 0.30183222 0.92815939 0.11235206]\n",
            " [0.88055261 0.01486533 0.64476423 0.77636366 0.5315657  0.5409997\n",
            "  0.37908612 0.02304592 0.4089387  0.05101427]\n",
            " [0.55739525 0.82491189 0.73707134 0.0029742  0.56720711 0.06663062\n",
            "  0.68997774 0.6929888  0.49158613 0.04271923]\n",
            " [0.15729794 0.71268733 0.73665009 0.12713718 0.18643527 0.20488879\n",
            "  0.0831451  0.87163545 0.75861617 0.30008273]\n",
            " [0.13229541 0.61564867 0.42836982 0.33893231 0.01640202 0.42520586\n",
            "  0.94776062 0.44022797 0.87927472 0.49591998]\n",
            " [0.41558362 0.56735737 0.46718929 0.65116685 0.51264425 0.04298836\n",
            "  0.1340699  0.76451697 0.91997624 0.62410817]\n",
            " [0.88703982 0.50138029 0.14537612 0.41647178 0.35390018 0.77412889\n",
            "  0.55277358 0.80954664 0.03980435 0.88007383]]\n",
            "minimum value is : 0.0014242824138761545\n",
            "maximum value is : 0.9477606204055444\n"
          ],
          "name": "stdout"
        }
      ]
    },
    {
      "cell_type": "markdown",
      "metadata": {
        "id": "riDXItxYHQXQ"
      },
      "source": [
        "Create a random vector of size 30 and find the mean value"
      ]
    },
    {
      "cell_type": "code",
      "metadata": {
        "colab": {
          "base_uri": "https://localhost:8080/"
        },
        "id": "GX1F3dXKHUtU",
        "outputId": "cacde46a-2503-4748-f6fc-f73b0eb39c23"
      },
      "source": [
        "a=np.random.random((30))\n",
        "print(a)\n",
        "print(\"mean value of the random vector of size 30 is :\",np.mean(a))"
      ],
      "execution_count": 77,
      "outputs": [
        {
          "output_type": "stream",
          "text": [
            "[0.13773456 0.53955525 0.43656624 0.01859988 0.14480039 0.45566746\n",
            " 0.53492766 0.26906817 0.06306037 0.22449641 0.98676073 0.59031876\n",
            " 0.09029622 0.56754118 0.35176547 0.89373457 0.17820815 0.31572181\n",
            " 0.46075923 0.57897146 0.24975269 0.47229094 0.24942191 0.49405301\n",
            " 0.56366368 0.05528546 0.22620019 0.88819894 0.0506867  0.86374457]\n",
            "mean value of the random vector of size 30 is : 0.3983950686753683\n"
          ],
          "name": "stdout"
        }
      ]
    },
    {
      "cell_type": "markdown",
      "metadata": {
        "id": "8BKAime0IGID"
      },
      "source": [
        "Create a 2d array with 1 on the border and 0 inside"
      ]
    },
    {
      "cell_type": "code",
      "metadata": {
        "colab": {
          "base_uri": "https://localhost:8080/"
        },
        "id": "3e7Q8_1nIJXC",
        "outputId": "6322dc2d-28ec-4877-f021-d23a098218fb"
      },
      "source": [
        "a= np.ones((5,5))\n",
        "print(\"Original array:\")\n",
        "print(a)\n",
        "print(\"1 on the border and 0 inside in the array\")\n",
        "a[1:-1,1:-1] = 0\n",
        "print(a)"
      ],
      "execution_count": 88,
      "outputs": [
        {
          "output_type": "stream",
          "text": [
            "Original array:\n",
            "[[1. 1. 1. 1. 1.]\n",
            " [1. 1. 1. 1. 1.]\n",
            " [1. 1. 1. 1. 1.]\n",
            " [1. 1. 1. 1. 1.]\n",
            " [1. 1. 1. 1. 1.]]\n",
            "1 on the border and 0 inside in the array\n",
            "[[1. 1. 1. 1. 1.]\n",
            " [1. 0. 0. 0. 1.]\n",
            " [1. 0. 0. 0. 1.]\n",
            " [1. 0. 0. 0. 1.]\n",
            " [1. 1. 1. 1. 1.]]\n"
          ],
          "name": "stdout"
        }
      ]
    },
    {
      "cell_type": "markdown",
      "metadata": {
        "id": "A7gvXVG2UTSZ"
      },
      "source": [
        "How to add a border (filled with 0's) around an existing array? "
      ]
    },
    {
      "cell_type": "code",
      "metadata": {
        "colab": {
          "base_uri": "https://localhost:8080/"
        },
        "id": "R8LZ5hErUUs_",
        "outputId": "7650b9ef-76d9-4b08-bbeb-c29e42ae5ff4"
      },
      "source": [
        "a=np.ones((3,3))\n",
        "print(\"original array is \")\n",
        "print(a)\n",
        "print(\"0 on the border and 1 insode the array \")\n",
        "a=np.pad(a,pad_width=1,mode='constant',constant_values=0)\n",
        "print(a)"
      ],
      "execution_count": 89,
      "outputs": [
        {
          "output_type": "stream",
          "text": [
            "original array is \n",
            "[[1. 1. 1.]\n",
            " [1. 1. 1.]\n",
            " [1. 1. 1.]]\n",
            "0 on the border and 1 insode the array \n",
            "[[0. 0. 0. 0. 0.]\n",
            " [0. 1. 1. 1. 0.]\n",
            " [0. 1. 1. 1. 0.]\n",
            " [0. 1. 1. 1. 0.]\n",
            " [0. 0. 0. 0. 0.]]\n"
          ],
          "name": "stdout"
        }
      ]
    },
    {
      "cell_type": "markdown",
      "metadata": {
        "id": "rj2q2T_FU3_Q"
      },
      "source": [
        "How to Accessing/Changing specific elements, rows, columns, etc in Numpy array?\n",
        "\n",
        "Example -\n",
        "[[ 1 2 3 4 5 6 7] [ 8 9 10 11 12 13 14]]\n",
        "\n",
        "Get 13, get first row only, get 3rd column only, get [2, 4, 6], replace 13 by 20"
      ]
    },
    {
      "cell_type": "code",
      "metadata": {
        "colab": {
          "base_uri": "https://localhost:8080/"
        },
        "id": "_PNY08P-U9Qt",
        "outputId": "79da616c-8e05-491a-adf1-462050f76d97"
      },
      "source": [
        "a=np.arange(1,15).reshape(2,7)\n",
        "print(a)\n",
        "#get 13\n",
        "print(\"getting 13\")\n",
        "print(a[1,5])\n",
        "#get first row\n",
        "print(\"getting first row only\")\n",
        "print(a[0])\n",
        "#get third column\n",
        "print(\"getting the third column\")\n",
        "print(a[:,2])\n",
        "#get only 2,4,6\n",
        "print(\"getting 2,4,6\")\n",
        "print(a[0,1],a[0,3],a[0,5])\n",
        "#replace 13 by 20\n",
        "print(\"replacing 13 by 20\")\n",
        "a[1,5]=20\n",
        "print(a)\n",
        "\n"
      ],
      "execution_count": 110,
      "outputs": [
        {
          "output_type": "stream",
          "text": [
            "[[ 1  2  3  4  5  6  7]\n",
            " [ 8  9 10 11 12 13 14]]\n",
            "getting 13\n",
            "13\n",
            "getting first row only\n",
            "[1 2 3 4 5 6 7]\n",
            "getting the third column\n",
            "[ 3 10]\n",
            "getting 2,4,6\n",
            "2 4 6\n",
            "replacing 13 by 20\n",
            "[[ 1  2  3  4  5  6  7]\n",
            " [ 8  9 10 11 12 20 14]]\n"
          ],
          "name": "stdout"
        }
      ]
    },
    {
      "cell_type": "markdown",
      "metadata": {
        "id": "Xe9Lu6_7XqMu"
      },
      "source": [
        "How to Convert a 1D array to a 2D array with 2 rows"
      ]
    },
    {
      "cell_type": "code",
      "metadata": {
        "colab": {
          "base_uri": "https://localhost:8080/"
        },
        "id": "XmvBQrqDXr3V",
        "outputId": "e0021f85-8674-430c-ee06-30528c3837e9"
      },
      "source": [
        "a=np.array([1,2,3,4,5,6,7,8])\n",
        "print(a)\n",
        "print(np.ndim(a))\n",
        "a=a.reshape(2,4)\n",
        "print(a)\n",
        "print(np.ndim(a))\n"
      ],
      "execution_count": 119,
      "outputs": [
        {
          "output_type": "stream",
          "text": [
            "[1 2 3 4 5 6 7 8]\n",
            "1\n",
            "[[1 2 3 4]\n",
            " [5 6 7 8]]\n",
            "2\n"
          ],
          "name": "stdout"
        }
      ]
    },
    {
      "cell_type": "markdown",
      "metadata": {
        "id": "YDQoSTgrY7hd"
      },
      "source": [
        "Create the following pattern without hardcoding. Use only numpy functions and the below input array a.\n",
        "\n",
        "Input:\n",
        "\n",
        "a = np.array([1,2,3])`\n",
        "Desired Output:\n",
        "\n",
        "#> array([1, 1, 1, 2, 2, 2, 3, 3, 3, 1, 2, 3, 1, 2, 3, 1, 2, 3])\n"
      ]
    },
    {
      "cell_type": "code",
      "metadata": {
        "colab": {
          "base_uri": "https://localhost:8080/"
        },
        "id": "DDFCpyHKY97d",
        "outputId": "55ab89f8-0ad4-446f-f5a1-0ce377b76881"
      },
      "source": [
        "a=np.array([1,2,3])\n",
        "np.r_[np.repeat(a,3),np.tile(a,3)]"
      ],
      "execution_count": 124,
      "outputs": [
        {
          "output_type": "execute_result",
          "data": {
            "text/plain": [
              "array([1, 1, 1, 2, 2, 2, 3, 3, 3, 1, 2, 3, 1, 2, 3, 1, 2, 3])"
            ]
          },
          "metadata": {
            "tags": []
          },
          "execution_count": 124
        }
      ]
    },
    {
      "cell_type": "markdown",
      "metadata": {
        "id": "szonOO8vZtwG"
      },
      "source": [
        "Write a program to show how Numpy taking less memory compared to Python List?\n",
        "\n"
      ]
    },
    {
      "cell_type": "code",
      "metadata": {
        "colab": {
          "base_uri": "https://localhost:8080/"
        },
        "id": "FscChLw_Z4iG",
        "outputId": "e50e6ac4-67ee-4294-e46e-ee736cef0b8f"
      },
      "source": [
        "import sys\n",
        "import numpy as np\n",
        "\n",
        "l=range(100)\n",
        "print(\"size of each element in bytes :\",sys.getsizeof(l))\n",
        "print(\"size of whole list in bytes :\",sys.getsizeof(l)*len(l))\n",
        "\n",
        "a=np.arange(100)\n",
        "print(\"size of each element in numpy array :\",a.itemsize)\n",
        "print(\"size of whole numpy array in bytes :\",a.itemsize*a.size)"
      ],
      "execution_count": 133,
      "outputs": [
        {
          "output_type": "stream",
          "text": [
            "size of each element in bytes : 48\n",
            "size of whole list in bytes : 4800\n",
            "size of each element in numpy array : 8\n",
            "size of whole numpy array in bytes : 800\n"
          ],
          "name": "stdout"
        }
      ]
    },
    {
      "cell_type": "markdown",
      "metadata": {
        "id": "S_zsCxIsbi3U"
      },
      "source": [
        "Write a program to show how Numpy taking less time compared to Python List?"
      ]
    },
    {
      "cell_type": "code",
      "metadata": {
        "colab": {
          "base_uri": "https://localhost:8080/"
        },
        "id": "-PU4JhGHbjvi",
        "outputId": "ac15235f-83cb-4748-f238-64415aed785d"
      },
      "source": [
        "import time \n",
        "import sys \n",
        "size=1000000\n",
        "l1=range(size)\n",
        "l2=range(size)\n",
        "n1=np.arange(size)\n",
        "n2=np.arange(size)\n",
        "\n",
        "#list item wise sum\n",
        "start=time.time()\n",
        "result=[(x+y) for x,y in zip(l1,l2)]\n",
        "print(\"time taken to print python list\")\n",
        "print((time.time()-start)*1000)\n",
        "\n",
        "#numpy array itemwise sum\n",
        "start=time.time()\n",
        "result=n1+n2\n",
        "print(\"time taken to print numpy array\")\n",
        "print((time.time()-start)*1000)"
      ],
      "execution_count": 135,
      "outputs": [
        {
          "output_type": "stream",
          "text": [
            "time taken to print python list\n",
            "109.58337783813477\n",
            "time taken to print numpy array\n",
            "18.0513858795166\n"
          ],
          "name": "stdout"
        }
      ]
    }
  ]
}