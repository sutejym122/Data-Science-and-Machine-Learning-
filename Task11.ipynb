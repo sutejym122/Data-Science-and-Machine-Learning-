{
  "nbformat": 4,
  "nbformat_minor": 0,
  "metadata": {
    "colab": {
      "name": "Task11.ipynb",
      "provenance": [],
      "collapsed_sections": [],
      "include_colab_link": true
    },
    "kernelspec": {
      "name": "python3",
      "display_name": "Python 3"
    },
    "language_info": {
      "name": "python"
    }
  },
  "cells": [
    {
      "cell_type": "markdown",
      "metadata": {
        "id": "view-in-github",
        "colab_type": "text"
      },
      "source": [
        "<a href=\"https://colab.research.google.com/github/sutejym122/Data-Science-and-Machine-Learning-/blob/main/Task11.ipynb\" target=\"_parent\"><img src=\"https://colab.research.google.com/assets/colab-badge.svg\" alt=\"Open In Colab\"/></a>"
      ]
    },
    {
      "cell_type": "markdown",
      "metadata": {
        "id": "niNzh90Xxhlf"
      },
      "source": [
        "TASK11"
      ]
    },
    {
      "cell_type": "markdown",
      "metadata": {
        "id": "wj1IBvNbxkTV"
      },
      "source": [
        "SUTEJ YM \n"
      ]
    },
    {
      "cell_type": "markdown",
      "metadata": {
        "id": "OTW7TAVoxmbd"
      },
      "source": [
        "GO_STP_10487"
      ]
    },
    {
      "cell_type": "code",
      "metadata": {
        "id": "ElpEN9cgUCmV"
      },
      "source": [
        "import numpy as np\n",
        "import matplotlib.pyplot as plt\n",
        "import pandas as pd\n",
        "import sklearn\n",
        "import seaborn as sns"
      ],
      "execution_count": null,
      "outputs": []
    },
    {
      "cell_type": "code",
      "metadata": {
        "colab": {
          "base_uri": "https://localhost:8080/",
          "height": 239
        },
        "id": "iUYE6rNyV-Kp",
        "outputId": "3dc5127a-edf3-4a20-91e4-f0f91592553b"
      },
      "source": [
        "data = pd.read_csv('/content/train_u6lujuX_CVtuZ9i (1).csv')\n",
        "data.head()"
      ],
      "execution_count": null,
      "outputs": [
        {
          "output_type": "execute_result",
          "data": {
            "text/html": [
              "<div>\n",
              "<style scoped>\n",
              "    .dataframe tbody tr th:only-of-type {\n",
              "        vertical-align: middle;\n",
              "    }\n",
              "\n",
              "    .dataframe tbody tr th {\n",
              "        vertical-align: top;\n",
              "    }\n",
              "\n",
              "    .dataframe thead th {\n",
              "        text-align: right;\n",
              "    }\n",
              "</style>\n",
              "<table border=\"1\" class=\"dataframe\">\n",
              "  <thead>\n",
              "    <tr style=\"text-align: right;\">\n",
              "      <th></th>\n",
              "      <th>Loan_ID</th>\n",
              "      <th>Gender</th>\n",
              "      <th>Married</th>\n",
              "      <th>Dependents</th>\n",
              "      <th>Education</th>\n",
              "      <th>Self_Employed</th>\n",
              "      <th>ApplicantIncome</th>\n",
              "      <th>CoapplicantIncome</th>\n",
              "      <th>LoanAmount</th>\n",
              "      <th>Loan_Amount_Term</th>\n",
              "      <th>Credit_History</th>\n",
              "      <th>Property_Area</th>\n",
              "      <th>Loan_Status</th>\n",
              "    </tr>\n",
              "  </thead>\n",
              "  <tbody>\n",
              "    <tr>\n",
              "      <th>0</th>\n",
              "      <td>LP001002</td>\n",
              "      <td>Male</td>\n",
              "      <td>No</td>\n",
              "      <td>0</td>\n",
              "      <td>Graduate</td>\n",
              "      <td>No</td>\n",
              "      <td>5849</td>\n",
              "      <td>0.0</td>\n",
              "      <td>NaN</td>\n",
              "      <td>360.0</td>\n",
              "      <td>1.0</td>\n",
              "      <td>Urban</td>\n",
              "      <td>Y</td>\n",
              "    </tr>\n",
              "    <tr>\n",
              "      <th>1</th>\n",
              "      <td>LP001003</td>\n",
              "      <td>Male</td>\n",
              "      <td>Yes</td>\n",
              "      <td>1</td>\n",
              "      <td>Graduate</td>\n",
              "      <td>No</td>\n",
              "      <td>4583</td>\n",
              "      <td>1508.0</td>\n",
              "      <td>128.0</td>\n",
              "      <td>360.0</td>\n",
              "      <td>1.0</td>\n",
              "      <td>Rural</td>\n",
              "      <td>N</td>\n",
              "    </tr>\n",
              "    <tr>\n",
              "      <th>2</th>\n",
              "      <td>LP001005</td>\n",
              "      <td>Male</td>\n",
              "      <td>Yes</td>\n",
              "      <td>0</td>\n",
              "      <td>Graduate</td>\n",
              "      <td>Yes</td>\n",
              "      <td>3000</td>\n",
              "      <td>0.0</td>\n",
              "      <td>66.0</td>\n",
              "      <td>360.0</td>\n",
              "      <td>1.0</td>\n",
              "      <td>Urban</td>\n",
              "      <td>Y</td>\n",
              "    </tr>\n",
              "    <tr>\n",
              "      <th>3</th>\n",
              "      <td>LP001006</td>\n",
              "      <td>Male</td>\n",
              "      <td>Yes</td>\n",
              "      <td>0</td>\n",
              "      <td>Not Graduate</td>\n",
              "      <td>No</td>\n",
              "      <td>2583</td>\n",
              "      <td>2358.0</td>\n",
              "      <td>120.0</td>\n",
              "      <td>360.0</td>\n",
              "      <td>1.0</td>\n",
              "      <td>Urban</td>\n",
              "      <td>Y</td>\n",
              "    </tr>\n",
              "    <tr>\n",
              "      <th>4</th>\n",
              "      <td>LP001008</td>\n",
              "      <td>Male</td>\n",
              "      <td>No</td>\n",
              "      <td>0</td>\n",
              "      <td>Graduate</td>\n",
              "      <td>No</td>\n",
              "      <td>6000</td>\n",
              "      <td>0.0</td>\n",
              "      <td>141.0</td>\n",
              "      <td>360.0</td>\n",
              "      <td>1.0</td>\n",
              "      <td>Urban</td>\n",
              "      <td>Y</td>\n",
              "    </tr>\n",
              "  </tbody>\n",
              "</table>\n",
              "</div>"
            ],
            "text/plain": [
              "    Loan_ID Gender Married  ... Credit_History Property_Area Loan_Status\n",
              "0  LP001002   Male      No  ...            1.0         Urban           Y\n",
              "1  LP001003   Male     Yes  ...            1.0         Rural           N\n",
              "2  LP001005   Male     Yes  ...            1.0         Urban           Y\n",
              "3  LP001006   Male     Yes  ...            1.0         Urban           Y\n",
              "4  LP001008   Male      No  ...            1.0         Urban           Y\n",
              "\n",
              "[5 rows x 13 columns]"
            ]
          },
          "metadata": {
            "tags": []
          },
          "execution_count": 2
        }
      ]
    },
    {
      "cell_type": "code",
      "metadata": {
        "colab": {
          "base_uri": "https://localhost:8080/"
        },
        "id": "qMyP-fF6WMzA",
        "outputId": "44ecf360-e7e7-4228-d219-fc31f7be8067"
      },
      "source": [
        "print(data.dtypes)\n",
        "print(data.size)\n",
        "print(data.shape)\n",
        "print(data.describe())"
      ],
      "execution_count": null,
      "outputs": [
        {
          "output_type": "stream",
          "text": [
            "Loan_ID               object\n",
            "Gender                object\n",
            "Married               object\n",
            "Dependents            object\n",
            "Education             object\n",
            "Self_Employed         object\n",
            "ApplicantIncome        int64\n",
            "CoapplicantIncome    float64\n",
            "LoanAmount           float64\n",
            "Loan_Amount_Term     float64\n",
            "Credit_History       float64\n",
            "Property_Area         object\n",
            "Loan_Status           object\n",
            "dtype: object\n",
            "7982\n",
            "(614, 13)\n",
            "       ApplicantIncome  CoapplicantIncome  ...  Loan_Amount_Term  Credit_History\n",
            "count       614.000000         614.000000  ...         600.00000      564.000000\n",
            "mean       5403.459283        1621.245798  ...         342.00000        0.842199\n",
            "std        6109.041673        2926.248369  ...          65.12041        0.364878\n",
            "min         150.000000           0.000000  ...          12.00000        0.000000\n",
            "25%        2877.500000           0.000000  ...         360.00000        1.000000\n",
            "50%        3812.500000        1188.500000  ...         360.00000        1.000000\n",
            "75%        5795.000000        2297.250000  ...         360.00000        1.000000\n",
            "max       81000.000000       41667.000000  ...         480.00000        1.000000\n",
            "\n",
            "[8 rows x 5 columns]\n"
          ],
          "name": "stdout"
        }
      ]
    },
    {
      "cell_type": "code",
      "metadata": {
        "colab": {
          "base_uri": "https://localhost:8080/"
        },
        "id": "BLXfRkjpWXC9",
        "outputId": "3e159b1c-ffa2-422a-99a7-9de9deafbf14"
      },
      "source": [
        "data.info()"
      ],
      "execution_count": null,
      "outputs": [
        {
          "output_type": "stream",
          "text": [
            "<class 'pandas.core.frame.DataFrame'>\n",
            "RangeIndex: 614 entries, 0 to 613\n",
            "Data columns (total 13 columns):\n",
            " #   Column             Non-Null Count  Dtype  \n",
            "---  ------             --------------  -----  \n",
            " 0   Loan_ID            614 non-null    object \n",
            " 1   Gender             601 non-null    object \n",
            " 2   Married            611 non-null    object \n",
            " 3   Dependents         599 non-null    object \n",
            " 4   Education          614 non-null    object \n",
            " 5   Self_Employed      582 non-null    object \n",
            " 6   ApplicantIncome    614 non-null    int64  \n",
            " 7   CoapplicantIncome  614 non-null    float64\n",
            " 8   LoanAmount         592 non-null    float64\n",
            " 9   Loan_Amount_Term   600 non-null    float64\n",
            " 10  Credit_History     564 non-null    float64\n",
            " 11  Property_Area      614 non-null    object \n",
            " 12  Loan_Status        614 non-null    object \n",
            "dtypes: float64(4), int64(1), object(8)\n",
            "memory usage: 62.5+ KB\n"
          ],
          "name": "stdout"
        }
      ]
    },
    {
      "cell_type": "code",
      "metadata": {
        "id": "K7g2pttgZw-y",
        "colab": {
          "base_uri": "https://localhost:8080/"
        },
        "outputId": "1fbb2ff3-c7d5-42c6-a8ff-b331ae6f53a9"
      },
      "source": [
        "a= data['Property_Area'].values\n",
        "a[0:5]\n"
      ],
      "execution_count": null,
      "outputs": [
        {
          "output_type": "execute_result",
          "data": {
            "text/plain": [
              "array(['Urban', 'Rural', 'Urban', 'Urban', 'Urban'], dtype=object)"
            ]
          },
          "metadata": {
            "tags": []
          },
          "execution_count": 9
        }
      ]
    },
    {
      "cell_type": "code",
      "metadata": {
        "colab": {
          "base_uri": "https://localhost:8080/"
        },
        "id": "7UXjLi8F8cG_",
        "outputId": "425ea179-1cdf-4e11-c948-d0997b491d7a"
      },
      "source": [
        "data.isnull().sum()"
      ],
      "execution_count": null,
      "outputs": [
        {
          "output_type": "execute_result",
          "data": {
            "text/plain": [
              "Loan_ID               0\n",
              "Gender               13\n",
              "Married               3\n",
              "Dependents           15\n",
              "Education             0\n",
              "Self_Employed        32\n",
              "ApplicantIncome       0\n",
              "CoapplicantIncome     0\n",
              "LoanAmount           22\n",
              "Loan_Amount_Term     14\n",
              "Credit_History       50\n",
              "Property_Area         0\n",
              "Loan_Status           0\n",
              "dtype: int64"
            ]
          },
          "metadata": {
            "tags": []
          },
          "execution_count": 10
        }
      ]
    },
    {
      "cell_type": "markdown",
      "metadata": {
        "id": "uyReh7w283Ay"
      },
      "source": [
        "Coverting Property_area and loan_status columns that contain strings to numerical values using label encoder"
      ]
    },
    {
      "cell_type": "code",
      "metadata": {
        "colab": {
          "base_uri": "https://localhost:8080/"
        },
        "id": "Se8cO1U38nx6",
        "outputId": "8e837e8d-7eb5-429d-cbdd-587048347456"
      },
      "source": [
        "from sklearn.preprocessing import LabelEncoder\n",
        "le=LabelEncoder()\n",
        "data.Property_Area=le.fit_transform(data.Property_Area)\n",
        "data.Property_Area.head(20)"
      ],
      "execution_count": null,
      "outputs": [
        {
          "output_type": "execute_result",
          "data": {
            "text/plain": [
              "0     2\n",
              "1     0\n",
              "2     2\n",
              "3     2\n",
              "4     2\n",
              "5     2\n",
              "6     2\n",
              "7     1\n",
              "8     2\n",
              "9     1\n",
              "10    2\n",
              "11    2\n",
              "12    2\n",
              "13    0\n",
              "14    2\n",
              "15    2\n",
              "16    2\n",
              "17    2\n",
              "18    0\n",
              "19    2\n",
              "Name: Property_Area, dtype: int64"
            ]
          },
          "metadata": {
            "tags": []
          },
          "execution_count": 11
        }
      ]
    },
    {
      "cell_type": "code",
      "metadata": {
        "colab": {
          "base_uri": "https://localhost:8080/"
        },
        "id": "rjjTSAP98-OS",
        "outputId": "42f1a44e-f307-4a66-8735-af8fe7244ed4"
      },
      "source": [
        "data.Loan_Status=le.fit_transform(data.Loan_Status)\n",
        "data.Loan_Status.head(20)"
      ],
      "execution_count": null,
      "outputs": [
        {
          "output_type": "execute_result",
          "data": {
            "text/plain": [
              "0     1\n",
              "1     0\n",
              "2     1\n",
              "3     1\n",
              "4     1\n",
              "5     1\n",
              "6     1\n",
              "7     0\n",
              "8     1\n",
              "9     0\n",
              "10    1\n",
              "11    1\n",
              "12    1\n",
              "13    0\n",
              "14    1\n",
              "15    1\n",
              "16    1\n",
              "17    0\n",
              "18    0\n",
              "19    1\n",
              "Name: Loan_Status, dtype: int64"
            ]
          },
          "metadata": {
            "tags": []
          },
          "execution_count": 12
        }
      ]
    },
    {
      "cell_type": "markdown",
      "metadata": {
        "id": "Ku4mNALj9W97"
      },
      "source": [
        "Replacing null values in Loan amount, loan_amount_term and Credit_history columns by 100, 360.0 and 1.0 respectively"
      ]
    },
    {
      "cell_type": "code",
      "metadata": {
        "colab": {
          "base_uri": "https://localhost:8080/",
          "height": 452
        },
        "id": "85vbTfgs9Lq9",
        "outputId": "8fa28ce8-b5d5-476b-a8a8-049573486624"
      },
      "source": [
        "newdf=data.replace(np.NAN,{'LoanAmount':100,'Loan_Amount_Term':360.0,'Credit_History':1.0})\n",
        "newdf"
      ],
      "execution_count": null,
      "outputs": [
        {
          "output_type": "execute_result",
          "data": {
            "text/html": [
              "<div>\n",
              "<style scoped>\n",
              "    .dataframe tbody tr th:only-of-type {\n",
              "        vertical-align: middle;\n",
              "    }\n",
              "\n",
              "    .dataframe tbody tr th {\n",
              "        vertical-align: top;\n",
              "    }\n",
              "\n",
              "    .dataframe thead th {\n",
              "        text-align: right;\n",
              "    }\n",
              "</style>\n",
              "<table border=\"1\" class=\"dataframe\">\n",
              "  <thead>\n",
              "    <tr style=\"text-align: right;\">\n",
              "      <th></th>\n",
              "      <th>Loan_ID</th>\n",
              "      <th>Gender</th>\n",
              "      <th>Married</th>\n",
              "      <th>Dependents</th>\n",
              "      <th>Education</th>\n",
              "      <th>Self_Employed</th>\n",
              "      <th>ApplicantIncome</th>\n",
              "      <th>CoapplicantIncome</th>\n",
              "      <th>LoanAmount</th>\n",
              "      <th>Loan_Amount_Term</th>\n",
              "      <th>Credit_History</th>\n",
              "      <th>Property_Area</th>\n",
              "      <th>Loan_Status</th>\n",
              "    </tr>\n",
              "  </thead>\n",
              "  <tbody>\n",
              "    <tr>\n",
              "      <th>0</th>\n",
              "      <td>LP001002</td>\n",
              "      <td>Male</td>\n",
              "      <td>No</td>\n",
              "      <td>0</td>\n",
              "      <td>Graduate</td>\n",
              "      <td>No</td>\n",
              "      <td>5849</td>\n",
              "      <td>0.0</td>\n",
              "      <td>100.0</td>\n",
              "      <td>360.0</td>\n",
              "      <td>1.0</td>\n",
              "      <td>2</td>\n",
              "      <td>1</td>\n",
              "    </tr>\n",
              "    <tr>\n",
              "      <th>1</th>\n",
              "      <td>LP001003</td>\n",
              "      <td>Male</td>\n",
              "      <td>Yes</td>\n",
              "      <td>1</td>\n",
              "      <td>Graduate</td>\n",
              "      <td>No</td>\n",
              "      <td>4583</td>\n",
              "      <td>1508.0</td>\n",
              "      <td>128.0</td>\n",
              "      <td>360.0</td>\n",
              "      <td>1.0</td>\n",
              "      <td>0</td>\n",
              "      <td>0</td>\n",
              "    </tr>\n",
              "    <tr>\n",
              "      <th>2</th>\n",
              "      <td>LP001005</td>\n",
              "      <td>Male</td>\n",
              "      <td>Yes</td>\n",
              "      <td>0</td>\n",
              "      <td>Graduate</td>\n",
              "      <td>Yes</td>\n",
              "      <td>3000</td>\n",
              "      <td>0.0</td>\n",
              "      <td>66.0</td>\n",
              "      <td>360.0</td>\n",
              "      <td>1.0</td>\n",
              "      <td>2</td>\n",
              "      <td>1</td>\n",
              "    </tr>\n",
              "    <tr>\n",
              "      <th>3</th>\n",
              "      <td>LP001006</td>\n",
              "      <td>Male</td>\n",
              "      <td>Yes</td>\n",
              "      <td>0</td>\n",
              "      <td>Not Graduate</td>\n",
              "      <td>No</td>\n",
              "      <td>2583</td>\n",
              "      <td>2358.0</td>\n",
              "      <td>120.0</td>\n",
              "      <td>360.0</td>\n",
              "      <td>1.0</td>\n",
              "      <td>2</td>\n",
              "      <td>1</td>\n",
              "    </tr>\n",
              "    <tr>\n",
              "      <th>4</th>\n",
              "      <td>LP001008</td>\n",
              "      <td>Male</td>\n",
              "      <td>No</td>\n",
              "      <td>0</td>\n",
              "      <td>Graduate</td>\n",
              "      <td>No</td>\n",
              "      <td>6000</td>\n",
              "      <td>0.0</td>\n",
              "      <td>141.0</td>\n",
              "      <td>360.0</td>\n",
              "      <td>1.0</td>\n",
              "      <td>2</td>\n",
              "      <td>1</td>\n",
              "    </tr>\n",
              "    <tr>\n",
              "      <th>...</th>\n",
              "      <td>...</td>\n",
              "      <td>...</td>\n",
              "      <td>...</td>\n",
              "      <td>...</td>\n",
              "      <td>...</td>\n",
              "      <td>...</td>\n",
              "      <td>...</td>\n",
              "      <td>...</td>\n",
              "      <td>...</td>\n",
              "      <td>...</td>\n",
              "      <td>...</td>\n",
              "      <td>...</td>\n",
              "      <td>...</td>\n",
              "    </tr>\n",
              "    <tr>\n",
              "      <th>609</th>\n",
              "      <td>LP002978</td>\n",
              "      <td>Female</td>\n",
              "      <td>No</td>\n",
              "      <td>0</td>\n",
              "      <td>Graduate</td>\n",
              "      <td>No</td>\n",
              "      <td>2900</td>\n",
              "      <td>0.0</td>\n",
              "      <td>71.0</td>\n",
              "      <td>360.0</td>\n",
              "      <td>1.0</td>\n",
              "      <td>0</td>\n",
              "      <td>1</td>\n",
              "    </tr>\n",
              "    <tr>\n",
              "      <th>610</th>\n",
              "      <td>LP002979</td>\n",
              "      <td>Male</td>\n",
              "      <td>Yes</td>\n",
              "      <td>3+</td>\n",
              "      <td>Graduate</td>\n",
              "      <td>No</td>\n",
              "      <td>4106</td>\n",
              "      <td>0.0</td>\n",
              "      <td>40.0</td>\n",
              "      <td>180.0</td>\n",
              "      <td>1.0</td>\n",
              "      <td>0</td>\n",
              "      <td>1</td>\n",
              "    </tr>\n",
              "    <tr>\n",
              "      <th>611</th>\n",
              "      <td>LP002983</td>\n",
              "      <td>Male</td>\n",
              "      <td>Yes</td>\n",
              "      <td>1</td>\n",
              "      <td>Graduate</td>\n",
              "      <td>No</td>\n",
              "      <td>8072</td>\n",
              "      <td>240.0</td>\n",
              "      <td>253.0</td>\n",
              "      <td>360.0</td>\n",
              "      <td>1.0</td>\n",
              "      <td>2</td>\n",
              "      <td>1</td>\n",
              "    </tr>\n",
              "    <tr>\n",
              "      <th>612</th>\n",
              "      <td>LP002984</td>\n",
              "      <td>Male</td>\n",
              "      <td>Yes</td>\n",
              "      <td>2</td>\n",
              "      <td>Graduate</td>\n",
              "      <td>No</td>\n",
              "      <td>7583</td>\n",
              "      <td>0.0</td>\n",
              "      <td>187.0</td>\n",
              "      <td>360.0</td>\n",
              "      <td>1.0</td>\n",
              "      <td>2</td>\n",
              "      <td>1</td>\n",
              "    </tr>\n",
              "    <tr>\n",
              "      <th>613</th>\n",
              "      <td>LP002990</td>\n",
              "      <td>Female</td>\n",
              "      <td>No</td>\n",
              "      <td>0</td>\n",
              "      <td>Graduate</td>\n",
              "      <td>Yes</td>\n",
              "      <td>4583</td>\n",
              "      <td>0.0</td>\n",
              "      <td>133.0</td>\n",
              "      <td>360.0</td>\n",
              "      <td>0.0</td>\n",
              "      <td>1</td>\n",
              "      <td>0</td>\n",
              "    </tr>\n",
              "  </tbody>\n",
              "</table>\n",
              "<p>614 rows × 13 columns</p>\n",
              "</div>"
            ],
            "text/plain": [
              "      Loan_ID  Gender Married  ... Credit_History Property_Area Loan_Status\n",
              "0    LP001002    Male      No  ...            1.0             2           1\n",
              "1    LP001003    Male     Yes  ...            1.0             0           0\n",
              "2    LP001005    Male     Yes  ...            1.0             2           1\n",
              "3    LP001006    Male     Yes  ...            1.0             2           1\n",
              "4    LP001008    Male      No  ...            1.0             2           1\n",
              "..        ...     ...     ...  ...            ...           ...         ...\n",
              "609  LP002978  Female      No  ...            1.0             0           1\n",
              "610  LP002979    Male     Yes  ...            1.0             0           1\n",
              "611  LP002983    Male     Yes  ...            1.0             2           1\n",
              "612  LP002984    Male     Yes  ...            1.0             2           1\n",
              "613  LP002990  Female      No  ...            0.0             1           0\n",
              "\n",
              "[614 rows x 13 columns]"
            ]
          },
          "metadata": {
            "tags": []
          },
          "execution_count": 13
        }
      ]
    },
    {
      "cell_type": "code",
      "metadata": {
        "colab": {
          "base_uri": "https://localhost:8080/"
        },
        "id": "gTCuWR5G9jlJ",
        "outputId": "399c4c6b-7db8-4b8b-d0fa-890b7cab743a"
      },
      "source": [
        "newdf.isnull().sum()"
      ],
      "execution_count": null,
      "outputs": [
        {
          "output_type": "execute_result",
          "data": {
            "text/plain": [
              "Loan_ID               0\n",
              "Gender               13\n",
              "Married               3\n",
              "Dependents           15\n",
              "Education             0\n",
              "Self_Employed        32\n",
              "ApplicantIncome       0\n",
              "CoapplicantIncome     0\n",
              "LoanAmount            0\n",
              "Loan_Amount_Term      0\n",
              "Credit_History        0\n",
              "Property_Area         0\n",
              "Loan_Status           0\n",
              "dtype: int64"
            ]
          },
          "metadata": {
            "tags": []
          },
          "execution_count": 14
        }
      ]
    },
    {
      "cell_type": "markdown",
      "metadata": {
        "id": "jkP9nVje9sHZ"
      },
      "source": [
        "Creating relational plot"
      ]
    },
    {
      "cell_type": "code",
      "metadata": {
        "colab": {
          "base_uri": "https://localhost:8080/",
          "height": 400
        },
        "id": "BONyuEzc9vAe",
        "outputId": "49457d58-e103-4ee8-ad4b-d1329a4d163e"
      },
      "source": [
        "sns.relplot(x='ApplicantIncome',y='LoanAmount',hue=\"Credit_History\",data=newdf)"
      ],
      "execution_count": null,
      "outputs": [
        {
          "output_type": "execute_result",
          "data": {
            "text/plain": [
              "<seaborn.axisgrid.FacetGrid at 0x7f872848fe10>"
            ]
          },
          "metadata": {
            "tags": []
          },
          "execution_count": 15
        },
        {
          "output_type": "display_data",
          "data": {
            "image/png": "[encoded data removed]",
            "text/plain": [
              "<Figure size 438.5x360 with 1 Axes>"
            ]
          },
          "metadata": {
            "tags": [],
            "needs_background": "light"
          }
        }
      ]
    },
    {
      "cell_type": "markdown",
      "metadata": {
        "id": "_L0XTnfuAImW"
      },
      "source": [
        "Dropping the below columns as they do not impact the outcome of loan status i.e. they aren't features"
      ]
    },
    {
      "cell_type": "code",
      "metadata": {
        "colab": {
          "base_uri": "https://localhost:8080/"
        },
        "id": "rvOQdg6x9xXq",
        "outputId": "52b2854b-2885-40c8-94c3-ff662f4d74a8"
      },
      "source": [
        "x=newdf.drop(['Loan_ID','Gender','Married','Dependents','Education','Self_Employed','Loan_Status'],axis='columns')\n",
        "print(x)"
      ],
      "execution_count": null,
      "outputs": [
        {
          "output_type": "stream",
          "text": [
            "     ApplicantIncome  CoapplicantIncome  ...  Credit_History  Property_Area\n",
            "0               5849                0.0  ...             1.0              2\n",
            "1               4583             1508.0  ...             1.0              0\n",
            "2               3000                0.0  ...             1.0              2\n",
            "3               2583             2358.0  ...             1.0              2\n",
            "4               6000                0.0  ...             1.0              2\n",
            "..               ...                ...  ...             ...            ...\n",
            "609             2900                0.0  ...             1.0              0\n",
            "610             4106                0.0  ...             1.0              0\n",
            "611             8072              240.0  ...             1.0              2\n",
            "612             7583                0.0  ...             1.0              2\n",
            "613             4583                0.0  ...             0.0              1\n",
            "\n",
            "[614 rows x 6 columns]\n"
          ],
          "name": "stdout"
        }
      ]
    },
    {
      "cell_type": "code",
      "metadata": {
        "colab": {
          "base_uri": "https://localhost:8080/"
        },
        "id": "rn8Skv_794ZH",
        "outputId": "b1c85c35-118b-49f4-ee6c-4c2d51caf35b"
      },
      "source": [
        "y=newdf['Loan_Status']\n",
        "print(y)"
      ],
      "execution_count": null,
      "outputs": [
        {
          "output_type": "stream",
          "text": [
            "0      1\n",
            "1      0\n",
            "2      1\n",
            "3      1\n",
            "4      1\n",
            "      ..\n",
            "609    1\n",
            "610    1\n",
            "611    1\n",
            "612    1\n",
            "613    0\n",
            "Name: Loan_Status, Length: 614, dtype: int64\n"
          ],
          "name": "stdout"
        }
      ]
    },
    {
      "cell_type": "code",
      "metadata": {
        "colab": {
          "base_uri": "https://localhost:8080/"
        },
        "id": "3ewllsXs9_IV",
        "outputId": "9a4b0848-ab1c-46d8-84e4-8a253c91808e"
      },
      "source": [
        "from sklearn.model_selection import train_test_split\n",
        "xtrain,xtest,ytrain,ytest=train_test_split(x,y,test_size=0.25,random_state=5)\n",
        "print(len(x_train))\n",
        "print(len(x_test))"
      ],
      "execution_count": null,
      "outputs": [
        {
          "output_type": "stream",
          "text": [
            "429\n",
            "185\n"
          ],
          "name": "stdout"
        }
      ]
    },
    {
      "cell_type": "code",
      "metadata": {
        "colab": {
          "base_uri": "https://localhost:8080/"
        },
        "id": "JSabS7CC-FNx",
        "outputId": "58df2071-ee89-4bf2-91d8-d9fb782306aa"
      },
      "source": [
        "from sklearn.tree import DecisionTreeClassifier\n",
        "model=DecisionTreeClassifier(random_state=5)\n",
        "model.fit(xtrain,ytrain)"
      ],
      "execution_count": null,
      "outputs": [
        {
          "output_type": "execute_result",
          "data": {
            "text/plain": [
              "DecisionTreeClassifier(ccp_alpha=0.0, class_weight=None, criterion='gini',\n",
              "                       max_depth=None, max_features=None, max_leaf_nodes=None,\n",
              "                       min_impurity_decrease=0.0, min_impurity_split=None,\n",
              "                       min_samples_leaf=1, min_samples_split=2,\n",
              "                       min_weight_fraction_leaf=0.0, presort='deprecated',\n",
              "                       random_state=5, splitter='best')"
            ]
          },
          "metadata": {
            "tags": []
          },
          "execution_count": 24
        }
      ]
    },
    {
      "cell_type": "code",
      "metadata": {
        "colab": {
          "base_uri": "https://localhost:8080/"
        },
        "id": "75b1rSO5-HnA",
        "outputId": "c4ca92f4-f812-4cd1-8180-6ca8b1854c70"
      },
      "source": [
        "ypred=model.predict(xtest)\n",
        "ypred"
      ],
      "execution_count": null,
      "outputs": [
        {
          "output_type": "execute_result",
          "data": {
            "text/plain": [
              "array([1, 1, 1, 1, 1, 1, 1, 1, 0, 1, 1, 1, 0, 1, 0, 0, 1, 0, 1, 0, 1, 1,\n",
              "       1, 1, 1, 1, 1, 1, 0, 1, 1, 0, 1, 0, 0, 1, 0, 1, 0, 0, 0, 1, 1, 1,\n",
              "       1, 0, 1, 1, 1, 1, 1, 1, 1, 1, 1, 1, 1, 0, 1, 1, 0, 1, 1, 0, 1, 1,\n",
              "       1, 1, 1, 0, 0, 0, 1, 1, 1, 1, 1, 1, 0, 1, 1, 1, 1, 1, 1, 0, 1, 1,\n",
              "       0, 1, 0, 1, 1, 0, 0, 1, 0, 0, 0, 1, 0, 1, 1, 0, 1, 0, 1, 1, 0, 1,\n",
              "       0, 1, 0, 0, 0, 1, 1, 0, 1, 1, 0, 1, 1, 1, 1, 0, 1, 1, 0, 0, 0, 1,\n",
              "       1, 0, 1, 0, 0, 1, 0, 1, 1, 1, 0, 1, 1, 1, 1, 1, 1, 1, 0, 1, 1, 0])"
            ]
          },
          "metadata": {
            "tags": []
          },
          "execution_count": 33
        }
      ]
    },
    {
      "cell_type": "code",
      "metadata": {
        "colab": {
          "base_uri": "https://localhost:8080/"
        },
        "id": "pI-k3X9V-MK6",
        "outputId": "6b43cb66-4e36-444e-ed58-4070f69d3741"
      },
      "source": [
        "from sklearn.metrics import accuracy_score,confusion_matrix\n",
        "c = confusion_matrix(ytest,ypred)\n",
        "print(\"Accuracy : \",accuracy_score(ytest,ypred))\n",
        "print('Confusion matrix : ')\n",
        "print(c)"
      ],
      "execution_count": null,
      "outputs": [
        {
          "output_type": "stream",
          "text": [
            "Accuracy :  0.7077922077922078\n",
            "Confusion matrix : \n",
            "[[26 20]\n",
            " [25 83]]\n"
          ],
          "name": "stdout"
        }
      ]
    },
    {
      "cell_type": "code",
      "metadata": {
        "colab": {
          "base_uri": "https://localhost:8080/",
          "height": 1000
        },
        "id": "_ClaJsif_T-f",
        "outputId": "3222f7a2-62b4-4052-ff3e-ec404b3a9a67"
      },
      "source": [
        "from sklearn import tree\n",
        "tree.plot_tree(model)"
      ],
      "execution_count": null,
      "outputs": [
        {
          "output_type": "execute_result",
          "data": {
            "text/plain": [
              "[Text(122.73942158385094, 212.49818181818182, 'X[4] <= 0.5\\ngini = 0.433\\nsamples = 460\\nvalue = [146, 314]'),\n",
              " Text(31.192546583850934, 202.61454545454546, 'X[1] <= 8115.0\\ngini = 0.114\\nsamples = 66\\nvalue = [62, 4]'),\n",
              " Text(20.795031055900623, 192.73090909090908, 'X[2] <= 160.5\\ngini = 0.089\\nsamples = 64\\nvalue = [61, 3]'),\n",
              " Text(12.477018633540375, 182.84727272727272, 'X[3] <= 240.0\\ngini = 0.038\\nsamples = 51\\nvalue = [50, 1]'),\n",
              " Text(8.31801242236025, 172.96363636363637, 'X[0] <= 2568.0\\ngini = 0.278\\nsamples = 6\\nvalue = [5, 1]'),\n",
              " Text(4.159006211180125, 163.07999999999998, 'gini = 0.0\\nsamples = 1\\nvalue = [0, 1]'),\n",
              " Text(12.477018633540375, 163.07999999999998, 'gini = 0.0\\nsamples = 5\\nvalue = [5, 0]'),\n",
              " Text(16.6360248447205, 172.96363636363637, 'gini = 0.0\\nsamples = 45\\nvalue = [45, 0]'),\n",
              " Text(29.113043478260874, 182.84727272727272, 'X[2] <= 172.0\\ngini = 0.26\\nsamples = 13\\nvalue = [11, 2]'),\n",
              " Text(24.95403726708075, 172.96363636363637, 'X[1] <= 1440.5\\ngini = 0.444\\nsamples = 3\\nvalue = [1, 2]'),\n",
              " Text(20.795031055900623, 163.07999999999998, 'gini = 0.0\\nsamples = 2\\nvalue = [0, 2]'),\n",
              " Text(29.113043478260874, 163.07999999999998, 'gini = 0.0\\nsamples = 1\\nvalue = [1, 0]'),\n",
              " Text(33.272049689441, 172.96363636363637, 'gini = 0.0\\nsamples = 10\\nvalue = [10, 0]'),\n",
              " Text(41.590062111801245, 192.73090909090908, 'X[2] <= 316.0\\ngini = 0.5\\nsamples = 2\\nvalue = [1, 1]'),\n",
              " Text(37.431055900621125, 182.84727272727272, 'gini = 0.0\\nsamples = 1\\nvalue = [0, 1]'),\n",
              " Text(45.74906832298137, 182.84727272727272, 'gini = 0.0\\nsamples = 1\\nvalue = [1, 0]'),\n",
              " Text(214.28629658385097, 202.61454545454546, 'X[1] <= 9650.5\\ngini = 0.335\\nsamples = 394\\nvalue = [84, 310]'),\n",
              " Text(160.83656832298138, 192.73090909090908, 'X[5] <= 0.5\\ngini = 0.327\\nsamples = 389\\nvalue = [80, 309]'),\n",
              " Text(78.89114906832299, 182.84727272727272, 'X[2] <= 85.5\\ngini = 0.424\\nsamples = 108\\nvalue = [33, 75]'),\n",
              " Text(41.590062111801245, 172.96363636363637, 'X[2] <= 51.5\\ngini = 0.49\\nsamples = 14\\nvalue = [8, 6]'),\n",
              " Text(37.431055900621125, 163.07999999999998, 'gini = 0.0\\nsamples = 3\\nvalue = [0, 3]'),\n",
              " Text(45.74906832298137, 163.07999999999998, 'X[2] <= 76.0\\ngini = 0.397\\nsamples = 11\\nvalue = [8, 3]'),\n",
              " Text(41.590062111801245, 153.19636363636363, 'X[2] <= 69.0\\ngini = 0.469\\nsamples = 8\\nvalue = [5, 3]'),\n",
              " Text(37.431055900621125, 143.31272727272727, 'X[0] <= 3757.0\\ngini = 0.408\\nsamples = 7\\nvalue = [5, 2]'),\n",
              " Text(33.272049689441, 133.42909090909092, 'X[1] <= 268.0\\ngini = 0.278\\nsamples = 6\\nvalue = [5, 1]'),\n",
              " Text(29.113043478260874, 123.54545454545455, 'X[2] <= 65.5\\ngini = 0.444\\nsamples = 3\\nvalue = [2, 1]'),\n",
              " Text(24.95403726708075, 113.66181818181819, 'gini = 0.0\\nsamples = 2\\nvalue = [2, 0]'),\n",
              " Text(33.272049689441, 113.66181818181819, 'gini = 0.0\\nsamples = 1\\nvalue = [0, 1]'),\n",
              " Text(37.431055900621125, 123.54545454545455, 'gini = 0.0\\nsamples = 3\\nvalue = [3, 0]'),\n",
              " Text(41.590062111801245, 133.42909090909092, 'gini = 0.0\\nsamples = 1\\nvalue = [0, 1]'),\n",
              " Text(45.74906832298137, 143.31272727272727, 'gini = 0.0\\nsamples = 1\\nvalue = [0, 1]'),\n",
              " Text(49.9080745341615, 153.19636363636363, 'gini = 0.0\\nsamples = 3\\nvalue = [3, 0]'),\n",
              " Text(116.19223602484473, 172.96363636363637, 'X[0] <= 18127.5\\ngini = 0.39\\nsamples = 94\\nvalue = [25, 69]'),\n",
              " Text(101.37577639751554, 163.07999999999998, 'X[0] <= 6391.5\\ngini = 0.369\\nsamples = 90\\nvalue = [22, 68]'),\n",
              " Text(84.21987577639753, 153.19636363636363, 'X[2] <= 127.0\\ngini = 0.41\\nsamples = 73\\nvalue = [21, 52]'),\n",
              " Text(62.38509316770187, 143.31272727272727, 'X[1] <= 8.06\\ngini = 0.257\\nsamples = 33\\nvalue = [5, 28]'),\n",
              " Text(49.9080745341615, 133.42909090909092, 'X[0] <= 3546.0\\ngini = 0.444\\nsamples = 12\\nvalue = [4, 8]'),\n",
              " Text(45.74906832298137, 123.54545454545455, 'gini = 0.0\\nsamples = 2\\nvalue = [2, 0]'),\n",
              " Text(54.06708074534162, 123.54545454545455, 'X[0] <= 4525.0\\ngini = 0.32\\nsamples = 10\\nvalue = [2, 8]'),\n",
              " Text(49.9080745341615, 113.66181818181819, 'gini = 0.0\\nsamples = 6\\nvalue = [0, 6]'),\n",
              " Text(58.22608695652175, 113.66181818181819, 'X[2] <= 108.0\\ngini = 0.5\\nsamples = 4\\nvalue = [2, 2]'),\n",
              " Text(54.06708074534162, 103.77818181818182, 'gini = 0.0\\nsamples = 1\\nvalue = [1, 0]'),\n",
              " Text(62.38509316770187, 103.77818181818182, 'X[0] <= 4617.5\\ngini = 0.444\\nsamples = 3\\nvalue = [1, 2]'),\n",
              " Text(58.22608695652175, 93.89454545454547, 'gini = 0.0\\nsamples = 1\\nvalue = [1, 0]'),\n",
              " Text(66.544099378882, 93.89454545454547, 'gini = 0.0\\nsamples = 2\\nvalue = [0, 2]'),\n",
              " Text(74.86211180124225, 133.42909090909092, 'X[0] <= 2172.5\\ngini = 0.091\\nsamples = 21\\nvalue = [1, 20]'),\n",
              " Text(70.70310559006212, 123.54545454545455, 'X[0] <= 1439.0\\ngini = 0.444\\nsamples = 3\\nvalue = [1, 2]'),\n",
              " Text(66.544099378882, 113.66181818181819, 'gini = 0.0\\nsamples = 2\\nvalue = [0, 2]'),\n",
              " Text(74.86211180124225, 113.66181818181819, 'gini = 0.0\\nsamples = 1\\nvalue = [1, 0]'),\n",
              " Text(79.02111801242236, 123.54545454545455, 'gini = 0.0\\nsamples = 18\\nvalue = [0, 18]'),\n",
              " Text(106.05465838509318, 143.31272727272727, 'X[0] <= 6108.0\\ngini = 0.48\\nsamples = 40\\nvalue = [16, 24]'),\n",
              " Text(101.89565217391305, 133.42909090909092, 'X[2] <= 135.5\\ngini = 0.465\\nsamples = 38\\nvalue = [14, 24]'),\n",
              " Text(87.33913043478262, 123.54545454545455, 'X[0] <= 4943.5\\ngini = 0.496\\nsamples = 11\\nvalue = [6, 5]'),\n",
              " Text(83.18012422360249, 113.66181818181819, 'X[1] <= 2318.0\\ngini = 0.444\\nsamples = 9\\nvalue = [6, 3]'),\n",
              " Text(79.02111801242236, 103.77818181818182, 'X[1] <= 1587.0\\ngini = 0.245\\nsamples = 7\\nvalue = [6, 1]'),\n",
              " Text(74.86211180124225, 93.89454545454547, 'gini = 0.0\\nsamples = 4\\nvalue = [4, 0]'),\n",
              " Text(83.18012422360249, 93.89454545454547, 'X[1] <= 1733.0\\ngini = 0.444\\nsamples = 3\\nvalue = [2, 1]'),\n",
              " Text(79.02111801242236, 84.01090909090911, 'gini = 0.0\\nsamples = 1\\nvalue = [0, 1]'),\n",
              " Text(87.33913043478262, 84.01090909090911, 'gini = 0.0\\nsamples = 2\\nvalue = [2, 0]'),\n",
              " Text(87.33913043478262, 103.77818181818182, 'gini = 0.0\\nsamples = 2\\nvalue = [0, 2]'),\n",
              " Text(91.49813664596275, 113.66181818181819, 'gini = 0.0\\nsamples = 2\\nvalue = [0, 2]'),\n",
              " Text(116.4521739130435, 123.54545454545455, 'X[2] <= 169.0\\ngini = 0.417\\nsamples = 27\\nvalue = [8, 19]'),\n",
              " Text(108.13416149068324, 113.66181818181819, 'X[1] <= 5299.0\\ngini = 0.291\\nsamples = 17\\nvalue = [3, 14]'),\n",
              " Text(103.97515527950311, 103.77818181818182, 'X[3] <= 420.0\\ngini = 0.219\\nsamples = 16\\nvalue = [2, 14]'),\n",
              " Text(99.816149068323, 93.89454545454547, 'X[0] <= 2499.5\\ngini = 0.124\\nsamples = 15\\nvalue = [1, 14]'),\n",
              " Text(95.65714285714287, 84.01090909090911, 'X[0] <= 1573.5\\ngini = 0.5\\nsamples = 2\\nvalue = [1, 1]'),\n",
              " Text(91.49813664596275, 74.12727272727273, 'gini = 0.0\\nsamples = 1\\nvalue = [0, 1]'),\n",
              " Text(99.816149068323, 74.12727272727273, 'gini = 0.0\\nsamples = 1\\nvalue = [1, 0]'),\n",
              " Text(103.97515527950311, 84.01090909090911, 'gini = 0.0\\nsamples = 13\\nvalue = [0, 13]'),\n",
              " Text(108.13416149068324, 93.89454545454547, 'gini = 0.0\\nsamples = 1\\nvalue = [1, 0]'),\n",
              " Text(112.29316770186337, 103.77818181818182, 'gini = 0.0\\nsamples = 1\\nvalue = [1, 0]'),\n",
              " Text(124.77018633540374, 113.66181818181819, 'X[1] <= 3983.5\\ngini = 0.5\\nsamples = 10\\nvalue = [5, 5]'),\n",
              " Text(120.61118012422362, 103.77818181818182, 'X[1] <= 1423.5\\ngini = 0.408\\nsamples = 7\\nvalue = [5, 2]'),\n",
              " Text(116.4521739130435, 93.89454545454547, 'X[1] <= 630.0\\ngini = 0.444\\nsamples = 3\\nvalue = [1, 2]'),\n",
              " Text(112.29316770186337, 84.01090909090911, 'X[2] <= 212.5\\ngini = 0.5\\nsamples = 2\\nvalue = [1, 1]'),\n",
              " Text(108.13416149068324, 74.12727272727273, 'gini = 0.0\\nsamples = 1\\nvalue = [1, 0]'),\n",
              " Text(116.4521739130435, 74.12727272727273, 'gini = 0.0\\nsamples = 1\\nvalue = [0, 1]'),\n",
              " Text(120.61118012422362, 84.01090909090911, 'gini = 0.0\\nsamples = 1\\nvalue = [0, 1]'),\n",
              " Text(124.77018633540374, 93.89454545454547, 'gini = 0.0\\nsamples = 4\\nvalue = [4, 0]'),\n",
              " Text(128.92919254658386, 103.77818181818182, 'gini = 0.0\\nsamples = 3\\nvalue = [0, 3]'),\n",
              " Text(110.2136645962733, 133.42909090909092, 'gini = 0.0\\nsamples = 2\\nvalue = [2, 0]'),\n",
              " Text(118.53167701863356, 153.19636363636363, 'X[0] <= 9752.0\\ngini = 0.111\\nsamples = 17\\nvalue = [1, 16]'),\n",
              " Text(114.37267080745343, 143.31272727272727, 'gini = 0.0\\nsamples = 13\\nvalue = [0, 13]'),\n",
              " Text(122.69068322981367, 143.31272727272727, 'X[1] <= 1340.0\\ngini = 0.375\\nsamples = 4\\nvalue = [1, 3]'),\n",
              " Text(118.53167701863356, 133.42909090909092, 'gini = 0.0\\nsamples = 3\\nvalue = [0, 3]'),\n",
              " Text(126.8496894409938, 133.42909090909092, 'gini = 0.0\\nsamples = 1\\nvalue = [1, 0]'),\n",
              " Text(131.00869565217394, 163.07999999999998, 'X[0] <= 22235.0\\ngini = 0.375\\nsamples = 4\\nvalue = [3, 1]'),\n",
              " Text(126.8496894409938, 153.19636363636363, 'gini = 0.0\\nsamples = 3\\nvalue = [3, 0]'),\n",
              " Text(135.16770186335404, 153.19636363636363, 'gini = 0.0\\nsamples = 1\\nvalue = [0, 1]'),\n",
              " Text(242.78198757763977, 182.84727272727272, 'X[3] <= 60.0\\ngini = 0.279\\nsamples = 281\\nvalue = [47, 234]'),\n",
              " Text(234.46397515527954, 172.96363636363637, 'X[0] <= 4053.0\\ngini = 0.444\\nsamples = 3\\nvalue = [2, 1]'),\n",
              " Text(230.30496894409941, 163.07999999999998, 'gini = 0.0\\nsamples = 2\\nvalue = [2, 0]'),\n",
              " Text(238.62298136645964, 163.07999999999998, 'gini = 0.0\\nsamples = 1\\nvalue = [0, 1]'),\n",
              " Text(251.10000000000002, 172.96363636363637, 'X[1] <= 7480.0\\ngini = 0.271\\nsamples = 278\\nvalue = [45, 233]'),\n",
              " Text(246.9409937888199, 163.07999999999998, 'X[2] <= 13.0\\ngini = 0.267\\nsamples = 277\\nvalue = [44, 233]'),\n",
              " Text(242.78198757763977, 153.19636363636363, 'gini = 0.0\\nsamples = 1\\nvalue = [1, 0]'),\n",
              " Text(251.10000000000002, 153.19636363636363, 'X[2] <= 137.5\\ngini = 0.263\\nsamples = 276\\nvalue = [43, 233]'),\n",
              " Text(199.11242236024847, 143.31272727272727, 'X[1] <= 5708.0\\ngini = 0.211\\nsamples = 175\\nvalue = [21, 154]'),\n",
              " Text(194.95341614906835, 133.42909090909092, 'X[5] <= 1.5\\ngini = 0.203\\nsamples = 174\\nvalue = [20, 154]'),\n",
              " Text(169.47950310559008, 123.54545454545455, 'X[1] <= 1729.5\\ngini = 0.12\\nsamples = 94\\nvalue = [6, 88]'),\n",
              " Text(165.32049689440996, 113.66181818181819, 'X[1] <= 1692.5\\ngini = 0.175\\nsamples = 62\\nvalue = [6, 56]'),\n",
              " Text(151.80372670807455, 103.77818181818182, 'X[2] <= 126.0\\ngini = 0.153\\nsamples = 60\\nvalue = [5, 55]'),\n",
              " Text(137.24720496894412, 93.89454545454547, 'X[3] <= 420.0\\ngini = 0.109\\nsamples = 52\\nvalue = [3, 49]'),\n",
              " Text(128.92919254658386, 84.01090909090911, 'X[2] <= 88.5\\ngini = 0.078\\nsamples = 49\\nvalue = [2, 47]'),\n",
              " Text(124.77018633540374, 74.12727272727273, 'X[2] <= 81.5\\ngini = 0.245\\nsamples = 14\\nvalue = [2, 12]'),\n",
              " Text(120.61118012422362, 64.24363636363637, 'X[0] <= 3862.5\\ngini = 0.142\\nsamples = 13\\nvalue = [1, 12]'),\n",
              " Text(116.4521739130435, 54.360000000000014, 'gini = 0.0\\nsamples = 8\\nvalue = [0, 8]'),\n",
              " Text(124.77018633540374, 54.360000000000014, 'X[0] <= 4016.5\\ngini = 0.32\\nsamples = 5\\nvalue = [1, 4]'),\n",
              " Text(120.61118012422362, 44.47636363636366, 'gini = 0.0\\nsamples = 1\\nvalue = [1, 0]'),\n",
              " Text(128.92919254658386, 44.47636363636366, 'gini = 0.0\\nsamples = 4\\nvalue = [0, 4]'),\n",
              " Text(128.92919254658386, 64.24363636363637, 'gini = 0.0\\nsamples = 1\\nvalue = [1, 0]'),\n",
              " Text(133.088198757764, 74.12727272727273, 'gini = 0.0\\nsamples = 35\\nvalue = [0, 35]'),\n",
              " Text(145.56521739130437, 84.01090909090911, 'X[1] <= 377.0\\ngini = 0.444\\nsamples = 3\\nvalue = [1, 2]'),\n",
              " Text(141.40621118012425, 74.12727272727273, 'gini = 0.0\\nsamples = 1\\nvalue = [1, 0]'),\n",
              " Text(149.7242236024845, 74.12727272727273, 'gini = 0.0\\nsamples = 2\\nvalue = [0, 2]'),\n",
              " Text(166.36024844720498, 93.89454545454547, 'X[2] <= 129.0\\ngini = 0.375\\nsamples = 8\\nvalue = [2, 6]'),\n",
              " Text(162.20124223602485, 84.01090909090911, 'X[0] <= 5048.5\\ngini = 0.444\\nsamples = 3\\nvalue = [2, 1]'),\n",
              " Text(158.04223602484473, 74.12727272727273, 'gini = 0.0\\nsamples = 2\\nvalue = [2, 0]'),\n",
              " Text(166.36024844720498, 74.12727272727273, 'gini = 0.0\\nsamples = 1\\nvalue = [0, 1]'),\n",
              " Text(170.5192546583851, 84.01090909090911, 'gini = 0.0\\nsamples = 5\\nvalue = [0, 5]'),\n",
              " Text(178.83726708074536, 103.77818181818182, 'X[2] <= 107.5\\ngini = 0.5\\nsamples = 2\\nvalue = [1, 1]'),\n",
              " Text(174.67826086956524, 93.89454545454547, 'gini = 0.0\\nsamples = 1\\nvalue = [1, 0]'),\n",
              " Text(182.9962732919255, 93.89454545454547, 'gini = 0.0\\nsamples = 1\\nvalue = [0, 1]'),\n",
              " Text(173.6385093167702, 113.66181818181819, 'gini = 0.0\\nsamples = 32\\nvalue = [0, 32]'),\n",
              " Text(220.4273291925466, 123.54545454545455, 'X[1] <= 3798.0\\ngini = 0.289\\nsamples = 80\\nvalue = [14, 66]'),\n",
              " Text(216.26832298136648, 113.66181818181819, 'X[2] <= 110.5\\ngini = 0.26\\nsamples = 78\\nvalue = [12, 66]'),\n",
              " Text(212.10931677018635, 103.77818181818182, 'X[0] <= 3458.0\\ngini = 0.341\\nsamples = 55\\nvalue = [12, 43]'),\n",
              " Text(191.31428571428575, 93.89454545454547, 'X[0] <= 1149.5\\ngini = 0.224\\nsamples = 39\\nvalue = [5, 34]'),\n",
              " Text(187.15527950310562, 84.01090909090911, 'gini = 0.0\\nsamples = 1\\nvalue = [1, 0]'),\n",
              " Text(195.47329192546587, 84.01090909090911, 'X[3] <= 420.0\\ngini = 0.188\\nsamples = 38\\nvalue = [4, 34]'),\n",
              " Text(191.31428571428575, 74.12727272727273, 'X[2] <= 72.5\\ngini = 0.149\\nsamples = 37\\nvalue = [3, 34]'),\n",
              " Text(187.15527950310562, 64.24363636363637, 'gini = 0.0\\nsamples = 13\\nvalue = [0, 13]'),\n",
              " Text(195.47329192546587, 64.24363636363637, 'X[2] <= 76.5\\ngini = 0.219\\nsamples = 24\\nvalue = [3, 21]'),\n",
              " Text(187.15527950310562, 54.360000000000014, 'X[1] <= 964.5\\ngini = 0.444\\nsamples = 3\\nvalue = [2, 1]'),\n",
              " Text(182.9962732919255, 44.47636363636366, 'gini = 0.0\\nsamples = 2\\nvalue = [2, 0]'),\n",
              " Text(191.31428571428575, 44.47636363636366, 'gini = 0.0\\nsamples = 1\\nvalue = [0, 1]'),\n",
              " Text(203.7913043478261, 54.360000000000014, 'X[1] <= 1581.5\\ngini = 0.091\\nsamples = 21\\nvalue = [1, 20]'),\n",
              " Text(199.632298136646, 44.47636363636366, 'gini = 0.0\\nsamples = 13\\nvalue = [0, 13]'),\n",
              " Text(207.95031055900623, 44.47636363636366, 'X[1] <= 1711.5\\ngini = 0.219\\nsamples = 8\\nvalue = [1, 7]'),\n",
              " Text(203.7913043478261, 34.592727272727274, 'gini = 0.0\\nsamples = 1\\nvalue = [1, 0]'),\n",
              " Text(212.10931677018635, 34.592727272727274, 'gini = 0.0\\nsamples = 7\\nvalue = [0, 7]'),\n",
              " Text(199.632298136646, 74.12727272727273, 'gini = 0.0\\nsamples = 1\\nvalue = [1, 0]'),\n",
              " Text(232.904347826087, 93.89454545454547, 'X[0] <= 5449.5\\ngini = 0.492\\nsamples = 16\\nvalue = [7, 9]'),\n",
              " Text(224.58633540372674, 84.01090909090911, 'X[1] <= 1745.5\\ngini = 0.444\\nsamples = 9\\nvalue = [6, 3]'),\n",
              " Text(220.4273291925466, 74.12727272727273, 'X[1] <= 520.0\\ngini = 0.49\\nsamples = 7\\nvalue = [4, 3]'),\n",
              " Text(216.26832298136648, 64.24363636363637, 'X[0] <= 3589.5\\ngini = 0.444\\nsamples = 6\\nvalue = [4, 2]'),\n",
              " Text(212.10931677018635, 54.360000000000014, 'gini = 0.0\\nsamples = 1\\nvalue = [1, 0]'),\n",
              " Text(220.4273291925466, 54.360000000000014, 'X[0] <= 3794.0\\ngini = 0.48\\nsamples = 5\\nvalue = [3, 2]'),\n",
              " Text(216.26832298136648, 44.47636363636366, 'gini = 0.0\\nsamples = 1\\nvalue = [0, 1]'),\n",
              " Text(224.58633540372674, 44.47636363636366, 'X[2] <= 98.0\\ngini = 0.375\\nsamples = 4\\nvalue = [3, 1]'),\n",
              " Text(220.4273291925466, 34.592727272727274, 'X[2] <= 95.0\\ngini = 0.5\\nsamples = 2\\nvalue = [1, 1]'),\n",
              " Text(216.26832298136648, 24.709090909090918, 'gini = 0.0\\nsamples = 1\\nvalue = [1, 0]'),\n",
              " Text(224.58633540372674, 24.709090909090918, 'gini = 0.0\\nsamples = 1\\nvalue = [0, 1]'),\n",
              " Text(228.74534161490686, 34.592727272727274, 'gini = 0.0\\nsamples = 2\\nvalue = [2, 0]'),\n",
              " Text(224.58633540372674, 64.24363636363637, 'gini = 0.0\\nsamples = 1\\nvalue = [0, 1]'),\n",
              " Text(228.74534161490686, 74.12727272727273, 'gini = 0.0\\nsamples = 2\\nvalue = [2, 0]'),\n",
              " Text(241.22236024844725, 84.01090909090911, 'X[0] <= 8052.5\\ngini = 0.245\\nsamples = 7\\nvalue = [1, 6]'),\n",
              " Text(237.06335403726712, 74.12727272727273, 'X[0] <= 6315.5\\ngini = 0.444\\nsamples = 3\\nvalue = [1, 2]'),\n",
              " Text(232.904347826087, 64.24363636363637, 'gini = 0.0\\nsamples = 2\\nvalue = [0, 2]'),\n",
              " Text(241.22236024844725, 64.24363636363637, 'gini = 0.0\\nsamples = 1\\nvalue = [1, 0]'),\n",
              " Text(245.38136645962734, 74.12727272727273, 'gini = 0.0\\nsamples = 4\\nvalue = [0, 4]'),\n",
              " Text(220.4273291925466, 103.77818181818182, 'gini = 0.0\\nsamples = 23\\nvalue = [0, 23]'),\n",
              " Text(224.58633540372674, 113.66181818181819, 'gini = 0.0\\nsamples = 2\\nvalue = [2, 0]'),\n",
              " Text(203.2714285714286, 133.42909090909092, 'gini = 0.0\\nsamples = 1\\nvalue = [1, 0]'),\n",
              " Text(303.0875776397516, 143.31272727272727, 'X[2] <= 139.0\\ngini = 0.341\\nsamples = 101\\nvalue = [22, 79]'),\n",
              " Text(298.92857142857144, 133.42909090909092, 'gini = 0.0\\nsamples = 2\\nvalue = [2, 0]'),\n",
              " Text(307.2465838509317, 133.42909090909092, 'X[2] <= 277.0\\ngini = 0.322\\nsamples = 99\\nvalue = [20, 79]'),\n",
              " Text(303.0875776397516, 123.54545454545455, 'X[3] <= 420.0\\ngini = 0.36\\nsamples = 85\\nvalue = [20, 65]'),\n",
              " Text(298.92857142857144, 113.66181818181819, 'X[0] <= 1730.5\\ngini = 0.35\\nsamples = 84\\nvalue = [19, 65]'),\n",
              " Text(294.76956521739135, 103.77818181818182, 'gini = 0.0\\nsamples = 1\\nvalue = [1, 0]'),\n",
              " Text(303.0875776397516, 103.77818181818182, 'X[2] <= 256.5\\ngini = 0.34\\nsamples = 83\\nvalue = [18, 65]'),\n",
              " Text(279.6931677018634, 93.89454545454547, 'X[1] <= 120.0\\ngini = 0.307\\nsamples = 74\\nvalue = [14, 60]'),\n",
              " Text(257.8583850931677, 84.01090909090911, 'X[0] <= 3892.5\\ngini = 0.412\\nsamples = 31\\nvalue = [9, 22]'),\n",
              " Text(253.6993788819876, 74.12727272727273, 'gini = 0.0\\nsamples = 1\\nvalue = [1, 0]'),\n",
              " Text(262.0173913043479, 74.12727272727273, 'X[0] <= 5910.5\\ngini = 0.391\\nsamples = 30\\nvalue = [8, 22]'),\n",
              " Text(257.8583850931677, 64.24363636363637, 'gini = 0.0\\nsamples = 4\\nvalue = [0, 4]'),\n",
              " Text(266.176397515528, 64.24363636363637, 'X[2] <= 169.5\\ngini = 0.426\\nsamples = 26\\nvalue = [8, 18]'),\n",
              " Text(255.77888198757768, 54.360000000000014, 'X[2] <= 158.0\\ngini = 0.494\\nsamples = 9\\nvalue = [4, 5]'),\n",
              " Text(247.46086956521742, 44.47636363636366, 'X[5] <= 1.5\\ngini = 0.32\\nsamples = 5\\nvalue = [1, 4]'),\n",
              " Text(243.3018633540373, 34.592727272727274, 'X[0] <= 7515.0\\ngini = 0.444\\nsamples = 3\\nvalue = [1, 2]'),\n",
              " Text(239.14285714285717, 24.709090909090918, 'gini = 0.0\\nsamples = 1\\nvalue = [1, 0]'),\n",
              " Text(247.46086956521742, 24.709090909090918, 'gini = 0.0\\nsamples = 2\\nvalue = [0, 2]'),\n",
              " Text(251.61987577639755, 34.592727272727274, 'gini = 0.0\\nsamples = 2\\nvalue = [0, 2]'),\n",
              " Text(264.09689440993793, 44.47636363636366, 'X[5] <= 1.5\\ngini = 0.375\\nsamples = 4\\nvalue = [3, 1]'),\n",
              " Text(259.9378881987578, 34.592727272727274, 'gini = 0.0\\nsamples = 2\\nvalue = [2, 0]'),\n",
              " Text(268.25590062111803, 34.592727272727274, 'X[0] <= 6144.5\\ngini = 0.5\\nsamples = 2\\nvalue = [1, 1]'),\n",
              " Text(264.09689440993793, 24.709090909090918, 'gini = 0.0\\nsamples = 1\\nvalue = [1, 0]'),\n",
              " Text(272.4149068322982, 24.709090909090918, 'gini = 0.0\\nsamples = 1\\nvalue = [0, 1]'),\n",
              " Text(276.5739130434783, 54.360000000000014, 'X[0] <= 6162.5\\ngini = 0.36\\nsamples = 17\\nvalue = [4, 13]'),\n",
              " Text(272.4149068322982, 44.47636363636366, 'gini = 0.0\\nsamples = 1\\nvalue = [1, 0]'),\n",
              " Text(280.73291925465844, 44.47636363636366, 'X[0] <= 9124.5\\ngini = 0.305\\nsamples = 16\\nvalue = [3, 13]'),\n",
              " Text(276.5739130434783, 34.592727272727274, 'gini = 0.0\\nsamples = 8\\nvalue = [0, 8]'),\n",
              " Text(284.89192546583854, 34.592727272727274, 'X[2] <= 193.5\\ngini = 0.469\\nsamples = 8\\nvalue = [3, 5]'),\n",
              " Text(280.73291925465844, 24.709090909090918, 'gini = 0.0\\nsamples = 3\\nvalue = [0, 3]'),\n",
              " Text(289.05093167701864, 24.709090909090918, 'X[2] <= 219.5\\ngini = 0.48\\nsamples = 5\\nvalue = [3, 2]'),\n",
              " Text(284.89192546583854, 14.825454545454562, 'gini = 0.0\\nsamples = 2\\nvalue = [2, 0]'),\n",
              " Text(293.2099378881988, 14.825454545454562, 'X[0] <= 9999.5\\ngini = 0.444\\nsamples = 3\\nvalue = [1, 2]'),\n",
              " Text(289.05093167701864, 4.941818181818206, 'gini = 0.0\\nsamples = 1\\nvalue = [1, 0]'),\n",
              " Text(297.3689440993789, 4.941818181818206, 'gini = 0.0\\nsamples = 2\\nvalue = [0, 2]'),\n",
              " Text(301.52795031055905, 84.01090909090911, 'X[0] <= 4173.0\\ngini = 0.206\\nsamples = 43\\nvalue = [5, 38]'),\n",
              " Text(297.3689440993789, 74.12727272727273, 'X[2] <= 189.0\\ngini = 0.33\\nsamples = 24\\nvalue = [5, 19]'),\n",
              " Text(289.05093167701864, 64.24363636363637, 'X[3] <= 270.0\\ngini = 0.245\\nsamples = 21\\nvalue = [3, 18]'),\n",
              " Text(284.89192546583854, 54.360000000000014, 'gini = 0.0\\nsamples = 1\\nvalue = [1, 0]'),\n",
              " Text(293.2099378881988, 54.360000000000014, 'X[0] <= 3692.0\\ngini = 0.18\\nsamples = 20\\nvalue = [2, 18]'),\n",
              " Text(289.05093167701864, 44.47636363636366, 'gini = 0.0\\nsamples = 13\\nvalue = [0, 13]'),\n",
              " Text(297.3689440993789, 44.47636363636366, 'X[0] <= 3783.0\\ngini = 0.408\\nsamples = 7\\nvalue = [2, 5]'),\n",
              " Text(293.2099378881988, 34.592727272727274, 'gini = 0.0\\nsamples = 2\\nvalue = [2, 0]'),\n",
              " Text(301.52795031055905, 34.592727272727274, 'gini = 0.0\\nsamples = 5\\nvalue = [0, 5]'),\n",
              " Text(305.68695652173915, 64.24363636363637, 'X[2] <= 204.0\\ngini = 0.444\\nsamples = 3\\nvalue = [2, 1]'),\n",
              " Text(301.52795031055905, 54.360000000000014, 'gini = 0.0\\nsamples = 2\\nvalue = [2, 0]'),\n",
              " Text(309.8459627329193, 54.360000000000014, 'gini = 0.0\\nsamples = 1\\nvalue = [0, 1]'),\n",
              " Text(305.68695652173915, 74.12727272727273, 'gini = 0.0\\nsamples = 19\\nvalue = [0, 19]'),\n",
              " Text(326.4819875776398, 93.89454545454547, 'X[0] <= 25256.0\\ngini = 0.494\\nsamples = 9\\nvalue = [4, 5]'),\n",
              " Text(322.32298136645966, 84.01090909090911, 'X[0] <= 9036.0\\ngini = 0.469\\nsamples = 8\\nvalue = [3, 5]'),\n",
              " Text(318.16397515527956, 74.12727272727273, 'X[1] <= 3223.0\\ngini = 0.48\\nsamples = 5\\nvalue = [3, 2]'),\n",
              " Text(314.0049689440994, 64.24363636363637, 'gini = 0.0\\nsamples = 2\\nvalue = [2, 0]'),\n",
              " Text(322.32298136645966, 64.24363636363637, 'X[1] <= 4589.0\\ngini = 0.444\\nsamples = 3\\nvalue = [1, 2]'),\n",
              " Text(318.16397515527956, 54.360000000000014, 'gini = 0.0\\nsamples = 2\\nvalue = [0, 2]'),\n",
              " Text(326.4819875776398, 54.360000000000014, 'gini = 0.0\\nsamples = 1\\nvalue = [1, 0]'),\n",
              " Text(326.4819875776398, 74.12727272727273, 'gini = 0.0\\nsamples = 3\\nvalue = [0, 3]'),\n",
              " Text(330.6409937888199, 84.01090909090911, 'gini = 0.0\\nsamples = 1\\nvalue = [1, 0]'),\n",
              " Text(307.2465838509317, 113.66181818181819, 'gini = 0.0\\nsamples = 1\\nvalue = [1, 0]'),\n",
              " Text(311.40559006211186, 123.54545454545455, 'gini = 0.0\\nsamples = 14\\nvalue = [0, 14]'),\n",
              " Text(255.25900621118015, 163.07999999999998, 'gini = 0.0\\nsamples = 1\\nvalue = [1, 0]'),\n",
              " Text(267.73602484472053, 192.73090909090908, 'X[2] <= 171.0\\ngini = 0.32\\nsamples = 5\\nvalue = [4, 1]'),\n",
              " Text(263.5770186335404, 182.84727272727272, 'X[0] <= 2168.0\\ngini = 0.5\\nsamples = 2\\nvalue = [1, 1]'),\n",
              " Text(259.4180124223603, 172.96363636363637, 'gini = 0.0\\nsamples = 1\\nvalue = [1, 0]'),\n",
              " Text(267.73602484472053, 172.96363636363637, 'gini = 0.0\\nsamples = 1\\nvalue = [0, 1]'),\n",
              " Text(271.89503105590063, 182.84727272727272, 'gini = 0.0\\nsamples = 3\\nvalue = [3, 0]')]"
            ]
          },
          "metadata": {
            "tags": []
          },
          "execution_count": 35
        },
        {
          "output_type": "display_data",
          "data": {
            "image/png": "[encoded data removed]",
            "text/plain": [
              "<Figure size 432x288 with 1 Axes>"
            ]
          },
          "metadata": {
            "tags": [],
            "needs_background": "light"
          }
        }
      ]
    },
    {
      "cell_type": "code",
      "metadata": {
        "colab": {
          "base_uri": "https://localhost:8080/",
          "height": 248
        },
        "id": "so_7AH0x_aM4",
        "outputId": "b6b0e561-2311-45ae-c096-0454b95b80b1"
      },
      "source": [
        "plt.figure()\n",
        "tree.plot_tree(model,filled=True)  \n",
        "plt.savefig('tree.jpg',format='jpg',bbox_inches = \"tight\")\n"
      ],
      "execution_count": null,
      "outputs": [
        {
          "output_type": "display_data",
          "data": {
            "image/png": "[encoded data removed]",
            "text/plain": [
              "<Figure size 432x288 with 1 Axes>"
            ]
          },
          "metadata": {
            "tags": [],
            "needs_background": "light"
          }
        }
      ]
    }
  ]
}